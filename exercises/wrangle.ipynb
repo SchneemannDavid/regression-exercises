{
 "cells": [
  {
   "cell_type": "markdown",
   "id": "f27f6d85",
   "metadata": {},
   "source": [
    "# Exercises"
   ]
  },
  {
   "cell_type": "markdown",
   "id": "6c00d617",
   "metadata": {},
   "source": [
    "Let's set up an example scenario as perspective for our regression exercises using the Zillow dataset.\n",
    "\n",
    "As a Codeup data science graduate, you want to show off your skills to the Zillow data science team in hopes of getting an interview for a position you saw pop up on LinkedIn. You thought it might look impressive to build an end-to-end project in which you use some of their Kaggle data to predict property values using some of their available features; who knows, you might even do some feature engineering to blow them away. Your goal is to predict the values of single unit properties using the obervations from 2017.\n",
    "\n",
    "In these exercises, you will complete the first step toward the above goal: acquire and prepare the necessary Zillow data from the zillow database in the Codeup database server."
   ]
  },
  {
   "cell_type": "markdown",
   "id": "93d40ed8",
   "metadata": {},
   "source": [
    "1. Acquire bedroomcnt, bathroomcnt, calculatedfinishedsquarefeet, taxvaluedollarcnt, yearbuilt, taxamount, and fips from the zillow database for all 'Single Family Residential' properties."
   ]
  },
  {
   "cell_type": "code",
   "execution_count": 1,
   "id": "cfedf4f1",
   "metadata": {},
   "outputs": [],
   "source": [
    "import warnings\n",
    "warnings.filterwarnings(\"ignore\")\n",
    "\n",
    "import pandas as pd\n",
    "import matplotlib.pyplot as plt\n",
    "import seaborn as sns\n",
    "import numpy as np\n",
    "from env import user, password, host"
   ]
  },
  {
   "cell_type": "code",
   "execution_count": 2,
   "id": "e71d90c8",
   "metadata": {},
   "outputs": [],
   "source": [
    "def get_db_url(database):\n",
    "    return f'mysql+pymysql://{user}:{password}@{host}/{database}'"
   ]
  },
  {
   "cell_type": "code",
   "execution_count": 3,
   "id": "a7b9d116",
   "metadata": {},
   "outputs": [],
   "source": [
    "# def get_db_url(dbname, username=user, hostname=host, passw=password):\n",
    "#    url = f'mysql+pymysql://{username}:{passw}@{hostname}/zillow'\n",
    "#    return url"
   ]
  },
  {
   "cell_type": "code",
   "execution_count": 3,
   "id": "f1846953",
   "metadata": {},
   "outputs": [],
   "source": [
    "url = get_db_url('zillow')"
   ]
  },
  {
   "cell_type": "code",
   "execution_count": 18,
   "id": "01a6d4f6",
   "metadata": {},
   "outputs": [],
   "source": [
    "df = pd.read_sql('''\n",
    "SELECT  propertylandusetypeid\n",
    "        bedroomcnt,\n",
    "        bathroomcnt,\n",
    "        calculatedfinishedsquarefeet,\n",
    "        taxvaluedollarcnt,\n",
    "        yearbuilt,\n",
    "        taxamount,\n",
    "        fips\n",
    "FROM properties_2017 \n",
    "JOIN propertylandusetype USING (propertylandusetypeid)\n",
    "JOIN predictions_2017 ON properties_2017.id = predictions_2017.id\n",
    "WHERE propertylandusetype.propertylandusedesc = \"Single Family Residential\" \n",
    "AND predictions_2017.transactiondate LIKE \"2017%%\"\n",
    "''', url)"
   ]
  },
  {
   "cell_type": "code",
   "execution_count": 19,
   "id": "5e8c8ba1",
   "metadata": {
    "scrolled": true
   },
   "outputs": [
    {
     "data": {
      "text/html": [
       "<div>\n",
       "<style scoped>\n",
       "    .dataframe tbody tr th:only-of-type {\n",
       "        vertical-align: middle;\n",
       "    }\n",
       "\n",
       "    .dataframe tbody tr th {\n",
       "        vertical-align: top;\n",
       "    }\n",
       "\n",
       "    .dataframe thead th {\n",
       "        text-align: right;\n",
       "    }\n",
       "</style>\n",
       "<table border=\"1\" class=\"dataframe\">\n",
       "  <thead>\n",
       "    <tr style=\"text-align: right;\">\n",
       "      <th></th>\n",
       "      <th>bedroomcnt</th>\n",
       "      <th>bathroomcnt</th>\n",
       "      <th>calculatedfinishedsquarefeet</th>\n",
       "      <th>taxvaluedollarcnt</th>\n",
       "      <th>yearbuilt</th>\n",
       "      <th>taxamount</th>\n",
       "      <th>fips</th>\n",
       "    </tr>\n",
       "  </thead>\n",
       "  <tbody>\n",
       "    <tr>\n",
       "      <th>0</th>\n",
       "      <td>261.0</td>\n",
       "      <td>3.0</td>\n",
       "      <td>2375.0</td>\n",
       "      <td>822304.0</td>\n",
       "      <td>1952.0</td>\n",
       "      <td>9974.94</td>\n",
       "      <td>6037.0</td>\n",
       "    </tr>\n",
       "    <tr>\n",
       "      <th>1</th>\n",
       "      <td>261.0</td>\n",
       "      <td>3.0</td>\n",
       "      <td>2024.0</td>\n",
       "      <td>457305.0</td>\n",
       "      <td>1951.0</td>\n",
       "      <td>5609.49</td>\n",
       "      <td>6037.0</td>\n",
       "    </tr>\n",
       "    <tr>\n",
       "      <th>2</th>\n",
       "      <td>261.0</td>\n",
       "      <td>3.0</td>\n",
       "      <td>2883.0</td>\n",
       "      <td>537944.0</td>\n",
       "      <td>1957.0</td>\n",
       "      <td>6689.31</td>\n",
       "      <td>6037.0</td>\n",
       "    </tr>\n",
       "    <tr>\n",
       "      <th>3</th>\n",
       "      <td>261.0</td>\n",
       "      <td>2.0</td>\n",
       "      <td>1922.0</td>\n",
       "      <td>405551.0</td>\n",
       "      <td>1960.0</td>\n",
       "      <td>5007.01</td>\n",
       "      <td>6037.0</td>\n",
       "    </tr>\n",
       "    <tr>\n",
       "      <th>4</th>\n",
       "      <td>261.0</td>\n",
       "      <td>2.0</td>\n",
       "      <td>1696.0</td>\n",
       "      <td>294146.0</td>\n",
       "      <td>1960.0</td>\n",
       "      <td>3661.14</td>\n",
       "      <td>6037.0</td>\n",
       "    </tr>\n",
       "  </tbody>\n",
       "</table>\n",
       "</div>"
      ],
      "text/plain": [
       "   bedroomcnt  bathroomcnt  calculatedfinishedsquarefeet  taxvaluedollarcnt  \\\n",
       "0       261.0          3.0                        2375.0           822304.0   \n",
       "1       261.0          3.0                        2024.0           457305.0   \n",
       "2       261.0          3.0                        2883.0           537944.0   \n",
       "3       261.0          2.0                        1922.0           405551.0   \n",
       "4       261.0          2.0                        1696.0           294146.0   \n",
       "\n",
       "   yearbuilt  taxamount    fips  \n",
       "0     1952.0    9974.94  6037.0  \n",
       "1     1951.0    5609.49  6037.0  \n",
       "2     1957.0    6689.31  6037.0  \n",
       "3     1960.0    5007.01  6037.0  \n",
       "4     1960.0    3661.14  6037.0  "
      ]
     },
     "execution_count": 19,
     "metadata": {},
     "output_type": "execute_result"
    }
   ],
   "source": [
    "df.head()"
   ]
  },
  {
   "cell_type": "markdown",
   "id": "4d490ed6",
   "metadata": {},
   "source": [
    "2. Using your acquired Zillow data, walk through the summarization and cleaning steps in your wrangle.ipynb file like we did above. You may handle the missing values however you feel is appropriate and meaninful; remember to document your process and decisions using markdown and code commenting where helpful."
   ]
  },
  {
   "cell_type": "code",
   "execution_count": 20,
   "id": "3c13f7e1",
   "metadata": {
    "scrolled": true
   },
   "outputs": [
    {
     "data": {
      "text/plain": [
       "(56079, 7)"
      ]
     },
     "execution_count": 20,
     "metadata": {},
     "output_type": "execute_result"
    }
   ],
   "source": [
    "df.shape"
   ]
  },
  {
   "cell_type": "code",
   "execution_count": 8,
   "id": "7605b919",
   "metadata": {},
   "outputs": [
    {
     "data": {
      "text/html": [
       "<div>\n",
       "<style scoped>\n",
       "    .dataframe tbody tr th:only-of-type {\n",
       "        vertical-align: middle;\n",
       "    }\n",
       "\n",
       "    .dataframe tbody tr th {\n",
       "        vertical-align: top;\n",
       "    }\n",
       "\n",
       "    .dataframe thead th {\n",
       "        text-align: right;\n",
       "    }\n",
       "</style>\n",
       "<table border=\"1\" class=\"dataframe\">\n",
       "  <thead>\n",
       "    <tr style=\"text-align: right;\">\n",
       "      <th></th>\n",
       "      <th>count</th>\n",
       "      <th>mean</th>\n",
       "      <th>std</th>\n",
       "      <th>min</th>\n",
       "      <th>25%</th>\n",
       "      <th>50%</th>\n",
       "      <th>75%</th>\n",
       "      <th>max</th>\n",
       "    </tr>\n",
       "  </thead>\n",
       "  <tbody>\n",
       "    <tr>\n",
       "      <th>bedroomcnt</th>\n",
       "      <td>2152863.0</td>\n",
       "      <td>261.000000</td>\n",
       "      <td>0.000000</td>\n",
       "      <td>261.00</td>\n",
       "      <td>261.00</td>\n",
       "      <td>261.00</td>\n",
       "      <td>261.00</td>\n",
       "      <td>261.00</td>\n",
       "    </tr>\n",
       "    <tr>\n",
       "      <th>bathroomcnt</th>\n",
       "      <td>2152852.0</td>\n",
       "      <td>2.230688</td>\n",
       "      <td>0.999280</td>\n",
       "      <td>0.00</td>\n",
       "      <td>2.00</td>\n",
       "      <td>2.00</td>\n",
       "      <td>3.00</td>\n",
       "      <td>32.00</td>\n",
       "    </tr>\n",
       "    <tr>\n",
       "      <th>calculatedfinishedsquarefeet</th>\n",
       "      <td>2144379.0</td>\n",
       "      <td>1862.855178</td>\n",
       "      <td>1222.125124</td>\n",
       "      <td>1.00</td>\n",
       "      <td>1257.00</td>\n",
       "      <td>1623.00</td>\n",
       "      <td>2208.00</td>\n",
       "      <td>952576.00</td>\n",
       "    </tr>\n",
       "    <tr>\n",
       "      <th>taxvaluedollarcnt</th>\n",
       "      <td>2152370.0</td>\n",
       "      <td>461896.237963</td>\n",
       "      <td>699676.049600</td>\n",
       "      <td>1.00</td>\n",
       "      <td>188170.25</td>\n",
       "      <td>327671.00</td>\n",
       "      <td>534527.00</td>\n",
       "      <td>98428909.00</td>\n",
       "    </tr>\n",
       "    <tr>\n",
       "      <th>yearbuilt</th>\n",
       "      <td>2143526.0</td>\n",
       "      <td>1960.949681</td>\n",
       "      <td>22.162196</td>\n",
       "      <td>1801.00</td>\n",
       "      <td>1949.00</td>\n",
       "      <td>1958.00</td>\n",
       "      <td>1976.00</td>\n",
       "      <td>2016.00</td>\n",
       "    </tr>\n",
       "    <tr>\n",
       "      <th>taxamount</th>\n",
       "      <td>2148421.0</td>\n",
       "      <td>5634.865978</td>\n",
       "      <td>8178.910249</td>\n",
       "      <td>1.85</td>\n",
       "      <td>2534.98</td>\n",
       "      <td>4108.95</td>\n",
       "      <td>6414.32</td>\n",
       "      <td>1337755.86</td>\n",
       "    </tr>\n",
       "    <tr>\n",
       "      <th>fips</th>\n",
       "      <td>2152863.0</td>\n",
       "      <td>6048.377335</td>\n",
       "      <td>20.433292</td>\n",
       "      <td>6037.00</td>\n",
       "      <td>6037.00</td>\n",
       "      <td>6037.00</td>\n",
       "      <td>6059.00</td>\n",
       "      <td>6111.00</td>\n",
       "    </tr>\n",
       "  </tbody>\n",
       "</table>\n",
       "</div>"
      ],
      "text/plain": [
       "                                  count           mean            std  \\\n",
       "bedroomcnt                    2152863.0     261.000000       0.000000   \n",
       "bathroomcnt                   2152852.0       2.230688       0.999280   \n",
       "calculatedfinishedsquarefeet  2144379.0    1862.855178    1222.125124   \n",
       "taxvaluedollarcnt             2152370.0  461896.237963  699676.049600   \n",
       "yearbuilt                     2143526.0    1960.949681      22.162196   \n",
       "taxamount                     2148421.0    5634.865978    8178.910249   \n",
       "fips                          2152863.0    6048.377335      20.433292   \n",
       "\n",
       "                                  min        25%        50%        75%  \\\n",
       "bedroomcnt                     261.00     261.00     261.00     261.00   \n",
       "bathroomcnt                      0.00       2.00       2.00       3.00   \n",
       "calculatedfinishedsquarefeet     1.00    1257.00    1623.00    2208.00   \n",
       "taxvaluedollarcnt                1.00  188170.25  327671.00  534527.00   \n",
       "yearbuilt                     1801.00    1949.00    1958.00    1976.00   \n",
       "taxamount                        1.85    2534.98    4108.95    6414.32   \n",
       "fips                          6037.00    6037.00    6037.00    6059.00   \n",
       "\n",
       "                                      max  \n",
       "bedroomcnt                         261.00  \n",
       "bathroomcnt                         32.00  \n",
       "calculatedfinishedsquarefeet    952576.00  \n",
       "taxvaluedollarcnt             98428909.00  \n",
       "yearbuilt                         2016.00  \n",
       "taxamount                      1337755.86  \n",
       "fips                              6111.00  "
      ]
     },
     "execution_count": 8,
     "metadata": {},
     "output_type": "execute_result"
    }
   ],
   "source": [
    "df.describe().T"
   ]
  },
  {
   "cell_type": "code",
   "execution_count": 9,
   "id": "217c217c",
   "metadata": {},
   "outputs": [
    {
     "name": "stdout",
     "output_type": "stream",
     "text": [
      "<class 'pandas.core.frame.DataFrame'>\n",
      "RangeIndex: 2152863 entries, 0 to 2152862\n",
      "Data columns (total 7 columns):\n",
      " #   Column                        Dtype  \n",
      "---  ------                        -----  \n",
      " 0   bedroomcnt                    float64\n",
      " 1   bathroomcnt                   float64\n",
      " 2   calculatedfinishedsquarefeet  float64\n",
      " 3   taxvaluedollarcnt             float64\n",
      " 4   yearbuilt                     float64\n",
      " 5   taxamount                     float64\n",
      " 6   fips                          float64\n",
      "dtypes: float64(7)\n",
      "memory usage: 115.0 MB\n"
     ]
    }
   ],
   "source": [
    "df.info()"
   ]
  },
  {
   "cell_type": "code",
   "execution_count": 10,
   "id": "9db268cd",
   "metadata": {
    "scrolled": true
   },
   "outputs": [
    {
     "data": {
      "text/plain": [
       "bedroomcnt                         0\n",
       "bathroomcnt                       11\n",
       "calculatedfinishedsquarefeet    8484\n",
       "taxvaluedollarcnt                493\n",
       "yearbuilt                       9337\n",
       "taxamount                       4442\n",
       "fips                               0\n",
       "dtype: int64"
      ]
     },
     "execution_count": 10,
     "metadata": {},
     "output_type": "execute_result"
    }
   ],
   "source": [
    "df.isnull().sum()"
   ]
  },
  {
   "cell_type": "code",
   "execution_count": 11,
   "id": "9039c30c",
   "metadata": {},
   "outputs": [
    {
     "data": {
      "text/plain": [
       "bedroomcnt                      0.000000\n",
       "bathroomcnt                     0.000005\n",
       "calculatedfinishedsquarefeet    0.003941\n",
       "taxvaluedollarcnt               0.000229\n",
       "yearbuilt                       0.004337\n",
       "taxamount                       0.002063\n",
       "fips                            0.000000\n",
       "dtype: float64"
      ]
     },
     "execution_count": 11,
     "metadata": {},
     "output_type": "execute_result"
    }
   ],
   "source": [
    "# What's the percentage of nulls?\n",
    "df.isna().mean()"
   ]
  },
  {
   "cell_type": "code",
   "execution_count": 12,
   "id": "407f2813",
   "metadata": {
    "scrolled": true
   },
   "outputs": [
    {
     "data": {
      "text/plain": [
       "0.9941"
      ]
     },
     "execution_count": 12,
     "metadata": {},
     "output_type": "execute_result"
    }
   ],
   "source": [
    "# If we drop all rows containing any null, how much data do we have left?\n",
    "round(df.dropna().shape[0] / df.shape[0], 4)"
   ]
  },
  {
   "cell_type": "code",
   "execution_count": 13,
   "id": "01f2fa00",
   "metadata": {
    "scrolled": true
   },
   "outputs": [
    {
     "name": "stdout",
     "output_type": "stream",
     "text": [
      "bedroomcnt\n",
      "261.0    2152863\n",
      "Name: bedroomcnt, dtype: int64\n",
      "--------------------\n",
      "bathroomcnt\n",
      "2.00     943589\n",
      "3.00     422841\n",
      "1.00     414324\n",
      "2.50     142981\n",
      "4.00      82155\n",
      "1.50      31211\n",
      "3.50      28518\n",
      "5.00      28362\n",
      "4.50      19506\n",
      "0.00      13027\n",
      "6.00      10747\n",
      "5.50       6217\n",
      "7.00       4394\n",
      "8.00       1692\n",
      "6.50       1333\n",
      "9.00        713\n",
      "7.50        384\n",
      "10.00       325\n",
      "11.00       146\n",
      "8.50        110\n",
      "12.00        73\n",
      "9.50         50\n",
      "13.00        39\n",
      "14.00        25\n",
      "15.00        17\n",
      "0.50         16\n",
      "10.50        14\n",
      "16.00        12\n",
      "18.00         8\n",
      "20.00         6\n",
      "17.00         4\n",
      "1.75          3\n",
      "12.50         3\n",
      "11.50         3\n",
      "19.50         1\n",
      "14.50         1\n",
      "32.00         1\n",
      "19.00         1\n",
      "Name: bathroomcnt, dtype: int64\n",
      "--------------------\n",
      "calculatedfinishedsquarefeet\n",
      "1200.0     5195\n",
      "1080.0     4389\n",
      "1120.0     4362\n",
      "1400.0     3833\n",
      "1440.0     3690\n",
      "           ... \n",
      "10613.0       1\n",
      "9360.0        1\n",
      "10238.0       1\n",
      "13748.0       1\n",
      "24920.0       1\n",
      "Name: calculatedfinishedsquarefeet, Length: 10580, dtype: int64\n",
      "--------------------\n",
      "taxvaluedollarcnt\n",
      "450000.0     821\n",
      "500000.0     779\n",
      "400000.0     729\n",
      "430000.0     690\n",
      "440000.0     685\n",
      "            ... \n",
      "3713490.0      1\n",
      "1314828.0      1\n",
      "1166747.0      1\n",
      "1289528.0      1\n",
      "536061.0       1\n",
      "Name: taxvaluedollarcnt, Length: 592269, dtype: int64\n",
      "--------------------\n",
      "yearbuilt\n",
      "1955.0    84405\n",
      "1950.0    71693\n",
      "1954.0    69163\n",
      "1953.0    62342\n",
      "1956.0    61942\n",
      "          ...  \n",
      "1823.0        1\n",
      "1855.0        1\n",
      "1879.0        1\n",
      "1840.0        1\n",
      "1874.0        1\n",
      "Name: yearbuilt, Length: 153, dtype: int64\n",
      "--------------------\n",
      "taxamount\n",
      "345.72      172\n",
      "344.18       77\n",
      "343.52       75\n",
      "285.30       67\n",
      "49.18        46\n",
      "           ... \n",
      "10115.62      1\n",
      "4200.22       1\n",
      "5609.30       1\n",
      "4037.26       1\n",
      "13494.52      1\n",
      "Name: taxamount, Length: 918838, dtype: int64\n",
      "--------------------\n",
      "fips\n",
      "6037.0    1431811\n",
      "6059.0     555077\n",
      "6111.0     165975\n",
      "Name: fips, dtype: int64\n",
      "--------------------\n"
     ]
    }
   ],
   "source": [
    "for column in df.columns:\n",
    "    print(column)\n",
    "    print(df[column].value_counts())\n",
    "    print(\"--------------------\")"
   ]
  },
  {
   "cell_type": "markdown",
   "id": "bb10f29f",
   "metadata": {},
   "source": [
    "**Takeaways So Far**\n",
    "- Bedrooms can be an integer\n",
    "- Bathrooms can stay a float to keep the .5 bathrooms\n",
    "- Year built, FIPS, and taxvaluedollarcnt can be converted to integers w/o data loss"
   ]
  },
  {
   "cell_type": "code",
   "execution_count": 14,
   "id": "55842496",
   "metadata": {},
   "outputs": [
    {
     "name": "stdout",
     "output_type": "stream",
     "text": [
      "<class 'pandas.core.frame.DataFrame'>\n",
      "Int64Index: 2140235 entries, 4 to 2152862\n",
      "Data columns (total 7 columns):\n",
      " #   Column                        Dtype  \n",
      "---  ------                        -----  \n",
      " 0   bedroomcnt                    float64\n",
      " 1   bathroomcnt                   float64\n",
      " 2   calculatedfinishedsquarefeet  float64\n",
      " 3   taxvaluedollarcnt             float64\n",
      " 4   yearbuilt                     float64\n",
      " 5   taxamount                     float64\n",
      " 6   fips                          float64\n",
      "dtypes: float64(7)\n",
      "memory usage: 130.6 MB\n"
     ]
    }
   ],
   "source": [
    "df = df.dropna()\n",
    "df.info()"
   ]
  },
  {
   "cell_type": "code",
   "execution_count": 15,
   "id": "65088df0",
   "metadata": {},
   "outputs": [
    {
     "data": {
      "text/plain": [
       "1.0"
      ]
     },
     "execution_count": 15,
     "metadata": {},
     "output_type": "execute_result"
    }
   ],
   "source": [
    "# 100% of calculatedfinishedsquarefeet can be converted to int w/o data loss\n",
    "(df.calculatedfinishedsquarefeet == df.calculatedfinishedsquarefeet.astype(int)).mean()"
   ]
  },
  {
   "cell_type": "code",
   "execution_count": 16,
   "id": "efa14d13",
   "metadata": {},
   "outputs": [
    {
     "data": {
      "text/plain": [
       "1.0"
      ]
     },
     "execution_count": 16,
     "metadata": {},
     "output_type": "execute_result"
    }
   ],
   "source": [
    "# 100% of calculatedfinishedsquarefeet can lose the decimal and be OK\n",
    "(df.taxvaluedollarcnt == df.taxvaluedollarcnt.astype(int)).mean()"
   ]
  },
  {
   "cell_type": "code",
   "execution_count": 17,
   "id": "7809f2fb",
   "metadata": {},
   "outputs": [
    {
     "data": {
      "text/plain": [
       "0.8925192794249229"
      ]
     },
     "execution_count": 17,
     "metadata": {},
     "output_type": "execute_result"
    }
   ],
   "source": [
    "(df.bathroomcnt == df.bathroomcnt.astype(int)).mean()"
   ]
  },
  {
   "cell_type": "code",
   "execution_count": 18,
   "id": "0ddbf808",
   "metadata": {},
   "outputs": [],
   "source": [
    "# fips, yearbuilt, and bedrooms can be integers\n",
    "df[\"fips\"] = df[\"fips\"].astype(int)\n",
    "df[\"yearbuilt\"] = df[\"yearbuilt\"].astype(int)\n",
    "df[\"bedroomcnt\"] = df[\"bedroomcnt\"].astype(int)\n",
    "df[\"taxvaluedollarcnt\"] = df[\"taxvaluedollarcnt\"].astype(int)\n",
    "df[\"calculatedfinishedsquarefeet\"] = df[\"calculatedfinishedsquarefeet\"].astype(int)"
   ]
  },
  {
   "cell_type": "code",
   "execution_count": 19,
   "id": "a1f94a57",
   "metadata": {
    "scrolled": false
   },
   "outputs": [
    {
     "data": {
      "text/plain": [
       "bedroomcnt                        int64\n",
       "bathroomcnt                     float64\n",
       "calculatedfinishedsquarefeet      int64\n",
       "taxvaluedollarcnt                 int64\n",
       "yearbuilt                         int64\n",
       "taxamount                       float64\n",
       "fips                              int64\n",
       "dtype: object"
      ]
     },
     "execution_count": 19,
     "metadata": {},
     "output_type": "execute_result"
    }
   ],
   "source": [
    "df.dtypes"
   ]
  },
  {
   "cell_type": "code",
   "execution_count": 20,
   "id": "32b8c9be",
   "metadata": {},
   "outputs": [
    {
     "data": {
      "text/html": [
       "<div>\n",
       "<style scoped>\n",
       "    .dataframe tbody tr th:only-of-type {\n",
       "        vertical-align: middle;\n",
       "    }\n",
       "\n",
       "    .dataframe tbody tr th {\n",
       "        vertical-align: top;\n",
       "    }\n",
       "\n",
       "    .dataframe thead th {\n",
       "        text-align: right;\n",
       "    }\n",
       "</style>\n",
       "<table border=\"1\" class=\"dataframe\">\n",
       "  <thead>\n",
       "    <tr style=\"text-align: right;\">\n",
       "      <th></th>\n",
       "      <th>bedroomcnt</th>\n",
       "      <th>bathroomcnt</th>\n",
       "      <th>calculatedfinishedsquarefeet</th>\n",
       "      <th>taxvaluedollarcnt</th>\n",
       "      <th>yearbuilt</th>\n",
       "      <th>fips</th>\n",
       "    </tr>\n",
       "  </thead>\n",
       "  <tbody>\n",
       "    <tr>\n",
       "      <th>4</th>\n",
       "      <td>261</td>\n",
       "      <td>2.0</td>\n",
       "      <td>3633</td>\n",
       "      <td>296425</td>\n",
       "      <td>2005</td>\n",
       "      <td>6037</td>\n",
       "    </tr>\n",
       "    <tr>\n",
       "      <th>6</th>\n",
       "      <td>261</td>\n",
       "      <td>4.0</td>\n",
       "      <td>1620</td>\n",
       "      <td>847770</td>\n",
       "      <td>2011</td>\n",
       "      <td>6037</td>\n",
       "    </tr>\n",
       "    <tr>\n",
       "      <th>7</th>\n",
       "      <td>261</td>\n",
       "      <td>2.0</td>\n",
       "      <td>2077</td>\n",
       "      <td>646760</td>\n",
       "      <td>1926</td>\n",
       "      <td>6037</td>\n",
       "    </tr>\n",
       "    <tr>\n",
       "      <th>11</th>\n",
       "      <td>261</td>\n",
       "      <td>0.0</td>\n",
       "      <td>1200</td>\n",
       "      <td>5328</td>\n",
       "      <td>1972</td>\n",
       "      <td>6037</td>\n",
       "    </tr>\n",
       "    <tr>\n",
       "      <th>14</th>\n",
       "      <td>261</td>\n",
       "      <td>0.0</td>\n",
       "      <td>171</td>\n",
       "      <td>6920</td>\n",
       "      <td>1973</td>\n",
       "      <td>6037</td>\n",
       "    </tr>\n",
       "    <tr>\n",
       "      <th>...</th>\n",
       "      <td>...</td>\n",
       "      <td>...</td>\n",
       "      <td>...</td>\n",
       "      <td>...</td>\n",
       "      <td>...</td>\n",
       "      <td>...</td>\n",
       "    </tr>\n",
       "    <tr>\n",
       "      <th>2152856</th>\n",
       "      <td>261</td>\n",
       "      <td>4.0</td>\n",
       "      <td>4375</td>\n",
       "      <td>422400</td>\n",
       "      <td>2015</td>\n",
       "      <td>6037</td>\n",
       "    </tr>\n",
       "    <tr>\n",
       "      <th>2152858</th>\n",
       "      <td>261</td>\n",
       "      <td>3.0</td>\n",
       "      <td>2262</td>\n",
       "      <td>960756</td>\n",
       "      <td>2015</td>\n",
       "      <td>6059</td>\n",
       "    </tr>\n",
       "    <tr>\n",
       "      <th>2152859</th>\n",
       "      <td>261</td>\n",
       "      <td>4.5</td>\n",
       "      <td>3127</td>\n",
       "      <td>536061</td>\n",
       "      <td>2014</td>\n",
       "      <td>6059</td>\n",
       "    </tr>\n",
       "    <tr>\n",
       "      <th>2152861</th>\n",
       "      <td>261</td>\n",
       "      <td>2.5</td>\n",
       "      <td>1974</td>\n",
       "      <td>424353</td>\n",
       "      <td>2015</td>\n",
       "      <td>6059</td>\n",
       "    </tr>\n",
       "    <tr>\n",
       "      <th>2152862</th>\n",
       "      <td>261</td>\n",
       "      <td>4.0</td>\n",
       "      <td>2110</td>\n",
       "      <td>554009</td>\n",
       "      <td>2014</td>\n",
       "      <td>6037</td>\n",
       "    </tr>\n",
       "  </tbody>\n",
       "</table>\n",
       "<p>2140235 rows × 6 columns</p>\n",
       "</div>"
      ],
      "text/plain": [
       "         bedroomcnt  bathroomcnt  calculatedfinishedsquarefeet  \\\n",
       "4               261          2.0                          3633   \n",
       "6               261          4.0                          1620   \n",
       "7               261          2.0                          2077   \n",
       "11              261          0.0                          1200   \n",
       "14              261          0.0                           171   \n",
       "...             ...          ...                           ...   \n",
       "2152856         261          4.0                          4375   \n",
       "2152858         261          3.0                          2262   \n",
       "2152859         261          4.5                          3127   \n",
       "2152861         261          2.5                          1974   \n",
       "2152862         261          4.0                          2110   \n",
       "\n",
       "         taxvaluedollarcnt  yearbuilt  fips  \n",
       "4                   296425       2005  6037  \n",
       "6                   847770       2011  6037  \n",
       "7                   646760       1926  6037  \n",
       "11                    5328       1972  6037  \n",
       "14                    6920       1973  6037  \n",
       "...                    ...        ...   ...  \n",
       "2152856             422400       2015  6037  \n",
       "2152858             960756       2015  6059  \n",
       "2152859             536061       2014  6059  \n",
       "2152861             424353       2015  6059  \n",
       "2152862             554009       2014  6037  \n",
       "\n",
       "[2140235 rows x 6 columns]"
      ]
     },
     "execution_count": 20,
     "metadata": {},
     "output_type": "execute_result"
    }
   ],
   "source": [
    "df.drop(columns = 'taxamount')"
   ]
  },
  {
   "cell_type": "code",
   "execution_count": 21,
   "id": "a29c647f",
   "metadata": {},
   "outputs": [
    {
     "name": "stdout",
     "output_type": "stream",
     "text": [
      "<class 'pandas.core.frame.DataFrame'>\n",
      "Int64Index: 2140235 entries, 4 to 2152862\n",
      "Data columns (total 7 columns):\n",
      " #   Column                        Dtype  \n",
      "---  ------                        -----  \n",
      " 0   bedroomcnt                    int64  \n",
      " 1   bathroomcnt                   float64\n",
      " 2   calculatedfinishedsquarefeet  int64  \n",
      " 3   taxvaluedollarcnt             int64  \n",
      " 4   yearbuilt                     int64  \n",
      " 5   taxamount                     float64\n",
      " 6   fips                          int64  \n",
      "dtypes: float64(2), int64(5)\n",
      "memory usage: 130.6 MB\n"
     ]
    }
   ],
   "source": [
    "df.info()"
   ]
  },
  {
   "cell_type": "code",
   "execution_count": 22,
   "id": "58f53eed",
   "metadata": {},
   "outputs": [
    {
     "data": {
      "text/plain": [
       "3"
      ]
     },
     "execution_count": 22,
     "metadata": {},
     "output_type": "execute_result"
    }
   ],
   "source": [
    "df['fips'].nunique()"
   ]
  },
  {
   "cell_type": "code",
   "execution_count": 23,
   "id": "8760d71b",
   "metadata": {},
   "outputs": [
    {
     "data": {
      "text/plain": [
       "6037    1425207\n",
       "6059     552057\n",
       "6111     162971\n",
       "Name: fips, dtype: int64"
      ]
     },
     "execution_count": 23,
     "metadata": {},
     "output_type": "execute_result"
    }
   ],
   "source": [
    "df.fips.value_counts()"
   ]
  },
  {
   "cell_type": "markdown",
   "id": "4d588ca7",
   "metadata": {},
   "source": [
    "fips is akin to county code:\n",
    "- 6037 = LA county\n",
    "- 6059 = Orange county\n",
    "- 6111 = Ventura county"
   ]
  },
  {
   "cell_type": "code",
   "execution_count": null,
   "id": "3f1ff346",
   "metadata": {
    "scrolled": true
   },
   "outputs": [],
   "source": [
    "df.head()"
   ]
  },
  {
   "cell_type": "code",
   "execution_count": null,
   "id": "a75ae43e",
   "metadata": {},
   "outputs": [],
   "source": [
    "df = df.replace(to_replace={'6037':'LA County', '6059':'Orange County', '6111':'Ventura County'}, value=none)"
   ]
  },
  {
   "cell_type": "code",
   "execution_count": null,
   "id": "0a350652",
   "metadata": {},
   "outputs": [],
   "source": [
    "df = df.replace('6059', 'Orange County')"
   ]
  },
  {
   "cell_type": "code",
   "execution_count": null,
   "id": "69042506",
   "metadata": {},
   "outputs": [],
   "source": [
    "df = df.replace('6111', 'Ventura County')"
   ]
  },
  {
   "cell_type": "code",
   "execution_count": null,
   "id": "28e5c46a",
   "metadata": {},
   "outputs": [],
   "source": [
    "df.head()"
   ]
  },
  {
   "cell_type": "code",
   "execution_count": null,
   "id": "b1f81818",
   "metadata": {},
   "outputs": [],
   "source": [
    "df.dtypes"
   ]
  },
  {
   "cell_type": "code",
   "execution_count": null,
   "id": "8de3986b",
   "metadata": {},
   "outputs": [],
   "source": [
    "df.rename(columns = {'bedroomcnt':'bedrooms', 'bathroomcnt':'bathrooms', 'calculatedfinishedsquarefeet':'sq_ft', 'taxvaluedollarcnt':'property_value', 'yearbuilt':'year_built', 'fips':'location'})"
   ]
  },
  {
   "cell_type": "markdown",
   "id": "44c431bb",
   "metadata": {},
   "source": [
    "3. Store all of the necessary functions to automate your process from acquiring the data to returning a cleaned dataframe witn no missing values in your wrangle.py file. Name your final function wrangle_zillow."
   ]
  },
  {
   "cell_type": "code",
   "execution_count": null,
   "id": "cb979203",
   "metadata": {},
   "outputs": [],
   "source": [
    "def wrangle_zillow():\n",
    "    \n",
    "    import env\n",
    "    '''\n",
    "    Read student_grades csv file into a pandas DataFrame,\n",
    "    drop student_id column, replace whitespaces with NaN values,\n",
    "    drop any rows with Null values, convert all columns to int64,\n",
    "    return cleaned student grades DataFrame.\n",
    "    '''\n",
    "    # Acquire data from SQL.\n",
    "    def get_db_url(dbname, username=env.user, hostname=env.host, passw=env.password):\n",
    "        url = f'mysql+pymysql://{username}:{passw}@{hostname}/zillow'\n",
    "        return url\n",
    "\n",
    "    url = get_db_url('zillow', env.user, env.host, env.password)\n",
    "    \n",
    "    df = pd.read_sql('''\n",
    "        SELECT  propertylandusetypeid\n",
    "                bedroomcnt,\n",
    "                bathroomcnt,\n",
    "                calculatedfinishedsquarefeet,\n",
    "                taxvaluedollarcnt,\n",
    "                yearbuilt,\n",
    "                taxamount,\n",
    "                fips\n",
    "        FROM properties_2017 as p17\n",
    "        WHERE propertylandusetypeid = '261'\n",
    "        ''', url)\n",
    "\n",
    "    ## Clean data, dropping rows and converting dtypes ##\n",
    "    \n",
    "    # Drop all rows with NaN values.\n",
    "    df = df.dropna()\n",
    "\n",
    "    # Converting fips, yearbuilt, and bedrooms, taxvaluedollarcnt, and calculatedfinishedsquarefeet into integers\n",
    "    df[\"fips\"] = df[\"fips\"].astype(int)\n",
    "    df[\"yearbuilt\"] = df[\"yearbuilt\"].astype(int)\n",
    "    df[\"bedroomcnt\"] = df[\"bedroomcnt\"].astype(int)\n",
    "    df[\"taxvaluedollarcnt\"] = df[\"taxvaluedollarcnt\"].astype(int)\n",
    "    df[\"calculatedfinishedsquarefeet\"] = df[\"calculatedfinishedsquarefeet\"].astype(int)\n",
    "    \n",
    "    # Manually handle outliers that do not represent properties likely for 99% of buyers and zillow visitors \n",
    "    df = df[df.bathroomcnt <= 6]\n",
    "    \n",
    "    df = df[df.bedroomcnt <= 6]\n",
    "\n",
    "    df = df[df.taxvaluedollarcnt < 2_000_000]\n",
    "    \n",
    "    return df"
   ]
  },
  {
   "cell_type": "code",
   "execution_count": null,
   "id": "16e72366",
   "metadata": {},
   "outputs": [],
   "source": [
    "df = wrangle_zillow()"
   ]
  },
  {
   "cell_type": "code",
   "execution_count": null,
   "id": "15e5f478",
   "metadata": {},
   "outputs": [],
   "source": [
    "df.info()  "
   ]
  },
  {
   "cell_type": "code",
   "execution_count": null,
   "id": "b1afc402",
   "metadata": {},
   "outputs": [],
   "source": [
    "df.head()"
   ]
  },
  {
   "cell_type": "code",
   "execution_count": null,
   "id": "4517724a",
   "metadata": {},
   "outputs": [],
   "source": [
    "df.shape"
   ]
  },
  {
   "cell_type": "markdown",
   "id": "c3e5337d",
   "metadata": {},
   "source": [
    "### Visualize Prepped Data"
   ]
  },
  {
   "cell_type": "code",
   "execution_count": null,
   "id": "4bad7e87",
   "metadata": {},
   "outputs": [],
   "source": [
    "plt.figure(figsize=(16, 3))\n",
    "\n",
    "# List of columns\n",
    "for i, col in enumerate(df.columns):\n",
    "\n",
    "    # i starts at 0, but plot nos should start at 1\n",
    "    plot_number = i + 1 \n",
    "\n",
    "    # Create subplot.\n",
    "    plt.subplot(1,8, plot_number)\n",
    "\n",
    "    # Title with column name.\n",
    "    plt.title(col)\n",
    "\n",
    "    # Display histogram for column.\n",
    "    df[col].hist(bins=5)\n",
    "\n",
    "    # Hide gridlines.\n",
    "    plt.grid(False)\n"
   ]
  },
  {
   "cell_type": "code",
   "execution_count": null,
   "id": "0ce7cf40",
   "metadata": {},
   "outputs": [],
   "source": [
    "for col in df.columns:\n",
    "    print(col)\n",
    "    plt.title(col)\n",
    "    df[col].hist()\n",
    "    plt.show()"
   ]
  },
  {
   "cell_type": "markdown",
   "id": "731f541c",
   "metadata": {},
   "source": [
    "### Handling Outliers"
   ]
  },
  {
   "cell_type": "code",
   "execution_count": null,
   "id": "073a8178",
   "metadata": {},
   "outputs": [],
   "source": [
    "# A football field is 57,600 square feet\n",
    "df.calculatedfinishedsquarefeet.sort_values(ascending=False).head(10)"
   ]
  },
  {
   "cell_type": "code",
   "execution_count": null,
   "id": "2189db69",
   "metadata": {},
   "outputs": [],
   "source": [
    "df[df.calculatedfinishedsquarefeet >= 25_000].taxvaluedollarcnt.mean()"
   ]
  },
  {
   "cell_type": "markdown",
   "id": "aa4d13a5",
   "metadata": {},
   "source": [
    "### Manual Outlier Detection and Filtering"
   ]
  },
  {
   "cell_type": "code",
   "execution_count": null,
   "id": "0e1bd631",
   "metadata": {},
   "outputs": [],
   "source": [
    "# What percentage of properties have 6 or less bathrooms?\n",
    "df[df.bathroomcnt <= 6].shape[0] / df.shape[0]"
   ]
  },
  {
   "cell_type": "code",
   "execution_count": null,
   "id": "6f43dc8d",
   "metadata": {},
   "outputs": [],
   "source": [
    "# What percentage of properties have 6 or less bedrooms?\n",
    "df[df.bedroomcnt <= 6].shape[0] / df.shape[0]"
   ]
  },
  {
   "cell_type": "code",
   "execution_count": null,
   "id": "165e07ee",
   "metadata": {},
   "outputs": [],
   "source": [
    "df[df.taxvaluedollarcnt < 1_500_000].shape[0] / df.shape[0]"
   ]
  },
  {
   "cell_type": "code",
   "execution_count": null,
   "id": "dc5d28f2",
   "metadata": {},
   "outputs": [],
   "source": [
    "# Manually handle outliers that do not represent properties likely for 99% of buyers and zillow visitors \n",
    "df = df[df.bathroomcnt <= 6]\n",
    "\n",
    "df = df[df.bedroomcnt <= 6]\n",
    "\n",
    "df = df[df.taxvaluedollarcnt < 2_000_000]"
   ]
  },
  {
   "cell_type": "code",
   "execution_count": null,
   "id": "0f124646",
   "metadata": {},
   "outputs": [],
   "source": [
    "for col in df.columns:\n",
    "    print(col)\n",
    "    df[col].hist(bins=50)\n",
    "    plt.show()"
   ]
  },
  {
   "cell_type": "code",
   "execution_count": null,
   "id": "7d398821",
   "metadata": {},
   "outputs": [],
   "source": []
  },
  {
   "cell_type": "code",
   "execution_count": null,
   "id": "d0b3ff89",
   "metadata": {},
   "outputs": [],
   "source": []
  },
  {
   "cell_type": "code",
   "execution_count": null,
   "id": "3d9fd57f",
   "metadata": {},
   "outputs": [],
   "source": []
  },
  {
   "cell_type": "code",
   "execution_count": null,
   "id": "31885698",
   "metadata": {},
   "outputs": [],
   "source": []
  }
 ],
 "metadata": {
  "kernelspec": {
   "display_name": "Python 3 (ipykernel)",
   "language": "python",
   "name": "python3"
  },
  "language_info": {
   "codemirror_mode": {
    "name": "ipython",
    "version": 3
   },
   "file_extension": ".py",
   "mimetype": "text/x-python",
   "name": "python",
   "nbconvert_exporter": "python",
   "pygments_lexer": "ipython3",
   "version": "3.9.12"
  }
 },
 "nbformat": 4,
 "nbformat_minor": 5
}
