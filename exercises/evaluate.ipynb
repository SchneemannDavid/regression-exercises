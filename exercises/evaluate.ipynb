{
 "cells": [
  {
   "cell_type": "markdown",
   "id": "e3d1ded9",
   "metadata": {},
   "source": [
    "# Regression Evaluate Exercises"
   ]
  },
  {
   "cell_type": "code",
   "execution_count": 6,
   "id": "2efbf02c",
   "metadata": {},
   "outputs": [],
   "source": [
    "from scipy import stats\n",
    "from sklearn.metrics import mean_squared_error, r2_score, explained_variance_score\n",
    "from sklearn.linear_model import LinearRegression\n",
    "from sklearn.feature_selection import f_regression \n",
    "from sklearn.preprocessing import MinMaxScaler\n",
    "from sklearn.metrics import mean_squared_error\n",
    "from sklearn.model_selection import train_test_split\n",
    "import math\n",
    "import pandas as pd\n",
    "import numpy as np\n",
    "import matplotlib.pyplot as plt\n",
    "import warnings\n",
    "warnings.filterwarnings('ignore')\n",
    "import wrangle"
   ]
  },
  {
   "cell_type": "markdown",
   "id": "c6be2e75",
   "metadata": {},
   "source": [
    "- Sum of Squared Errors\n",
    "    - (Residuals**2).sum()\n",
    "- Explained sum of squares\n",
    "    -  ((yhat-baseline)**2).sum()\n",
    "- Total sum of squares\n",
    "    - (Sum of Squared Errors) + (Explained Sum of Squares)\n",
    "- Mean Squared Error\n",
    "    - (Sum of Squared Errors)/(Count of Residuals)\n",
    "- Root Mean Squared Error\n",
    "    - $ \\sqrt(Mean Squared Error) $"
   ]
  },
  {
   "cell_type": "markdown",
   "id": "f92800a2",
   "metadata": {},
   "source": [
    "### 1. Load your zillow dataset.\n",
    "### 2. Fit a linear regression model (ordinary least squares) and compute yhat, predictions of taxvaluedollarcnt using only calfulatedfinishedsqft."
   ]
  },
  {
   "cell_type": "code",
   "execution_count": 4,
   "id": "9b23c883",
   "metadata": {
    "scrolled": true
   },
   "outputs": [
    {
     "data": {
      "text/html": [
       "<div>\n",
       "<style scoped>\n",
       "    .dataframe tbody tr th:only-of-type {\n",
       "        vertical-align: middle;\n",
       "    }\n",
       "\n",
       "    .dataframe tbody tr th {\n",
       "        vertical-align: top;\n",
       "    }\n",
       "\n",
       "    .dataframe thead th {\n",
       "        text-align: right;\n",
       "    }\n",
       "</style>\n",
       "<table border=\"1\" class=\"dataframe\">\n",
       "  <thead>\n",
       "    <tr style=\"text-align: right;\">\n",
       "      <th></th>\n",
       "      <th>bedrooms</th>\n",
       "      <th>bathrooms</th>\n",
       "      <th>sq_ft</th>\n",
       "      <th>home_value</th>\n",
       "      <th>year_built</th>\n",
       "      <th>location</th>\n",
       "    </tr>\n",
       "  </thead>\n",
       "  <tbody>\n",
       "    <tr>\n",
       "      <th>0</th>\n",
       "      <td>4</td>\n",
       "      <td>2.0</td>\n",
       "      <td>3633</td>\n",
       "      <td>296425</td>\n",
       "      <td>2005</td>\n",
       "      <td>LA County</td>\n",
       "    </tr>\n",
       "    <tr>\n",
       "      <th>1</th>\n",
       "      <td>3</td>\n",
       "      <td>4.0</td>\n",
       "      <td>1620</td>\n",
       "      <td>847770</td>\n",
       "      <td>2011</td>\n",
       "      <td>LA County</td>\n",
       "    </tr>\n",
       "    <tr>\n",
       "      <th>2</th>\n",
       "      <td>3</td>\n",
       "      <td>2.0</td>\n",
       "      <td>2077</td>\n",
       "      <td>646760</td>\n",
       "      <td>1926</td>\n",
       "      <td>LA County</td>\n",
       "    </tr>\n",
       "    <tr>\n",
       "      <th>3</th>\n",
       "      <td>0</td>\n",
       "      <td>0.0</td>\n",
       "      <td>1200</td>\n",
       "      <td>5328</td>\n",
       "      <td>1972</td>\n",
       "      <td>LA County</td>\n",
       "    </tr>\n",
       "    <tr>\n",
       "      <th>4</th>\n",
       "      <td>0</td>\n",
       "      <td>0.0</td>\n",
       "      <td>171</td>\n",
       "      <td>6920</td>\n",
       "      <td>1973</td>\n",
       "      <td>LA County</td>\n",
       "    </tr>\n",
       "  </tbody>\n",
       "</table>\n",
       "</div>"
      ],
      "text/plain": [
       "   bedrooms  bathrooms  sq_ft  home_value  year_built   location\n",
       "0         4        2.0   3633      296425        2005  LA County\n",
       "1         3        4.0   1620      847770        2011  LA County\n",
       "2         3        2.0   2077      646760        1926  LA County\n",
       "3         0        0.0   1200        5328        1972  LA County\n",
       "4         0        0.0    171        6920        1973  LA County"
      ]
     },
     "execution_count": 4,
     "metadata": {},
     "output_type": "execute_result"
    }
   ],
   "source": [
    "df = wrangle.wrangle_zillow()\n",
    "df.head()"
   ]
  },
  {
   "cell_type": "code",
   "execution_count": 7,
   "id": "b291f9c6",
   "metadata": {},
   "outputs": [],
   "source": [
    "#Split the dataset\n",
    "seed = 42\n",
    "\n",
    "train, validate = train_test_split(df, test_size=0.2,\n",
    "                                   random_state=seed)"
   ]
  },
  {
   "cell_type": "code",
   "execution_count": 8,
   "id": "8c37a8ee",
   "metadata": {},
   "outputs": [
    {
     "data": {
      "text/html": [
       "<div>\n",
       "<style scoped>\n",
       "    .dataframe tbody tr th:only-of-type {\n",
       "        vertical-align: middle;\n",
       "    }\n",
       "\n",
       "    .dataframe tbody tr th {\n",
       "        vertical-align: top;\n",
       "    }\n",
       "\n",
       "    .dataframe thead th {\n",
       "        text-align: right;\n",
       "    }\n",
       "</style>\n",
       "<table border=\"1\" class=\"dataframe\">\n",
       "  <thead>\n",
       "    <tr style=\"text-align: right;\">\n",
       "      <th></th>\n",
       "      <th>bedrooms</th>\n",
       "      <th>bathrooms</th>\n",
       "      <th>sq_ft</th>\n",
       "      <th>home_value</th>\n",
       "      <th>year_built</th>\n",
       "      <th>location</th>\n",
       "    </tr>\n",
       "  </thead>\n",
       "  <tbody>\n",
       "    <tr>\n",
       "      <th>726483</th>\n",
       "      <td>2</td>\n",
       "      <td>2.0</td>\n",
       "      <td>0.001507</td>\n",
       "      <td>619070</td>\n",
       "      <td>1937</td>\n",
       "      <td>LA County</td>\n",
       "    </tr>\n",
       "    <tr>\n",
       "      <th>762805</th>\n",
       "      <td>3</td>\n",
       "      <td>2.0</td>\n",
       "      <td>0.001568</td>\n",
       "      <td>424248</td>\n",
       "      <td>1955</td>\n",
       "      <td>Orange County</td>\n",
       "    </tr>\n",
       "    <tr>\n",
       "      <th>1231508</th>\n",
       "      <td>3</td>\n",
       "      <td>2.0</td>\n",
       "      <td>0.001452</td>\n",
       "      <td>329233</td>\n",
       "      <td>1929</td>\n",
       "      <td>LA County</td>\n",
       "    </tr>\n",
       "    <tr>\n",
       "      <th>1273602</th>\n",
       "      <td>4</td>\n",
       "      <td>2.0</td>\n",
       "      <td>0.001250</td>\n",
       "      <td>48614</td>\n",
       "      <td>1955</td>\n",
       "      <td>LA County</td>\n",
       "    </tr>\n",
       "    <tr>\n",
       "      <th>1442984</th>\n",
       "      <td>2</td>\n",
       "      <td>1.0</td>\n",
       "      <td>0.000566</td>\n",
       "      <td>990860</td>\n",
       "      <td>1920</td>\n",
       "      <td>Orange County</td>\n",
       "    </tr>\n",
       "  </tbody>\n",
       "</table>\n",
       "</div>"
      ],
      "text/plain": [
       "         bedrooms  bathrooms     sq_ft  home_value  year_built       location\n",
       "726483          2        2.0  0.001507      619070        1937      LA County\n",
       "762805          3        2.0  0.001568      424248        1955  Orange County\n",
       "1231508         3        2.0  0.001452      329233        1929      LA County\n",
       "1273602         4        2.0  0.001250       48614        1955      LA County\n",
       "1442984         2        1.0  0.000566      990860        1920  Orange County"
      ]
     },
     "execution_count": 8,
     "metadata": {},
     "output_type": "execute_result"
    }
   ],
   "source": [
    "#Create the scaler and fit/transform my square footage column\n",
    "mms = MinMaxScaler()\n",
    "\n",
    "train['sq_ft'] = mms.fit_transform(train[['sq_ft']])\n",
    "\n",
    "train.head()"
   ]
  },
  {
   "cell_type": "code",
   "execution_count": 11,
   "id": "c8a93a86",
   "metadata": {},
   "outputs": [],
   "source": [
    "#Drop the columns that aren't relevant to the exercises\n",
    "train.drop(columns=['bedrooms', 'bathrooms', 'year_built', 'location'], inplace=True)"
   ]
  },
  {
   "cell_type": "code",
   "execution_count": 12,
   "id": "ca5e4ffa",
   "metadata": {},
   "outputs": [],
   "source": [
    "#Create an instance of the model and fit it to my data\n",
    "lm = LinearRegression().fit(train[['sq_ft']],\n",
    "                            train['home_value'])"
   ]
  },
  {
   "cell_type": "code",
   "execution_count": 13,
   "id": "29b796d3",
   "metadata": {},
   "outputs": [
    {
     "data": {
      "text/plain": [
       "array([359324.14251367, 365637.10873693, 353555.39751656, ...,\n",
       "       311759.2073488 , 387188.26929218, 319922.52574094])"
      ]
     },
     "execution_count": 13,
     "metadata": {},
     "output_type": "execute_result"
    }
   ],
   "source": [
    "#Generate predictions\n",
    "yhat = lm.predict(train[['sq_ft']])\n",
    "yhat"
   ]
  },
  {
   "cell_type": "code",
   "execution_count": 14,
   "id": "ef08a035",
   "metadata": {},
   "outputs": [
    {
     "data": {
      "text/html": [
       "<div>\n",
       "<style scoped>\n",
       "    .dataframe tbody tr th:only-of-type {\n",
       "        vertical-align: middle;\n",
       "    }\n",
       "\n",
       "    .dataframe tbody tr th {\n",
       "        vertical-align: top;\n",
       "    }\n",
       "\n",
       "    .dataframe thead th {\n",
       "        text-align: right;\n",
       "    }\n",
       "</style>\n",
       "<table border=\"1\" class=\"dataframe\">\n",
       "  <thead>\n",
       "    <tr style=\"text-align: right;\">\n",
       "      <th></th>\n",
       "      <th>sq_ft</th>\n",
       "      <th>home_value</th>\n",
       "      <th>yhat</th>\n",
       "    </tr>\n",
       "  </thead>\n",
       "  <tbody>\n",
       "    <tr>\n",
       "      <th>726483</th>\n",
       "      <td>0.001507</td>\n",
       "      <td>619070</td>\n",
       "      <td>359324.142514</td>\n",
       "    </tr>\n",
       "    <tr>\n",
       "      <th>762805</th>\n",
       "      <td>0.001568</td>\n",
       "      <td>424248</td>\n",
       "      <td>365637.108737</td>\n",
       "    </tr>\n",
       "    <tr>\n",
       "      <th>1231508</th>\n",
       "      <td>0.001452</td>\n",
       "      <td>329233</td>\n",
       "      <td>353555.397517</td>\n",
       "    </tr>\n",
       "    <tr>\n",
       "      <th>1273602</th>\n",
       "      <td>0.001250</td>\n",
       "      <td>48614</td>\n",
       "      <td>332657.302433</td>\n",
       "    </tr>\n",
       "    <tr>\n",
       "      <th>1442984</th>\n",
       "      <td>0.000566</td>\n",
       "      <td>990860</td>\n",
       "      <td>261690.854544</td>\n",
       "    </tr>\n",
       "  </tbody>\n",
       "</table>\n",
       "</div>"
      ],
      "text/plain": [
       "            sq_ft  home_value           yhat\n",
       "726483   0.001507      619070  359324.142514\n",
       "762805   0.001568      424248  365637.108737\n",
       "1231508  0.001452      329233  353555.397517\n",
       "1273602  0.001250       48614  332657.302433\n",
       "1442984  0.000566      990860  261690.854544"
      ]
     },
     "execution_count": 14,
     "metadata": {},
     "output_type": "execute_result"
    }
   ],
   "source": [
    "#Add the predictions to my dataframe\n",
    "train['yhat'] = yhat\n",
    "train.head()"
   ]
  },
  {
   "cell_type": "markdown",
   "id": "915adf8f",
   "metadata": {},
   "source": [
    "### 3. Plot the residuals for the linear regression model that you made."
   ]
  },
  {
   "cell_type": "code",
   "execution_count": 15,
   "id": "da5a0650",
   "metadata": {},
   "outputs": [
    {
     "data": {
      "text/html": [
       "<div>\n",
       "<style scoped>\n",
       "    .dataframe tbody tr th:only-of-type {\n",
       "        vertical-align: middle;\n",
       "    }\n",
       "\n",
       "    .dataframe tbody tr th {\n",
       "        vertical-align: top;\n",
       "    }\n",
       "\n",
       "    .dataframe thead th {\n",
       "        text-align: right;\n",
       "    }\n",
       "</style>\n",
       "<table border=\"1\" class=\"dataframe\">\n",
       "  <thead>\n",
       "    <tr style=\"text-align: right;\">\n",
       "      <th></th>\n",
       "      <th>sq_ft</th>\n",
       "      <th>home_value</th>\n",
       "      <th>yhat</th>\n",
       "      <th>residuals</th>\n",
       "    </tr>\n",
       "  </thead>\n",
       "  <tbody>\n",
       "    <tr>\n",
       "      <th>726483</th>\n",
       "      <td>0.001507</td>\n",
       "      <td>619070</td>\n",
       "      <td>359324.142514</td>\n",
       "      <td>-259745.857486</td>\n",
       "    </tr>\n",
       "    <tr>\n",
       "      <th>762805</th>\n",
       "      <td>0.001568</td>\n",
       "      <td>424248</td>\n",
       "      <td>365637.108737</td>\n",
       "      <td>-58610.891263</td>\n",
       "    </tr>\n",
       "    <tr>\n",
       "      <th>1231508</th>\n",
       "      <td>0.001452</td>\n",
       "      <td>329233</td>\n",
       "      <td>353555.397517</td>\n",
       "      <td>24322.397517</td>\n",
       "    </tr>\n",
       "    <tr>\n",
       "      <th>1273602</th>\n",
       "      <td>0.001250</td>\n",
       "      <td>48614</td>\n",
       "      <td>332657.302433</td>\n",
       "      <td>284043.302433</td>\n",
       "    </tr>\n",
       "    <tr>\n",
       "      <th>1442984</th>\n",
       "      <td>0.000566</td>\n",
       "      <td>990860</td>\n",
       "      <td>261690.854544</td>\n",
       "      <td>-729169.145456</td>\n",
       "    </tr>\n",
       "  </tbody>\n",
       "</table>\n",
       "</div>"
      ],
      "text/plain": [
       "            sq_ft  home_value           yhat      residuals\n",
       "726483   0.001507      619070  359324.142514 -259745.857486\n",
       "762805   0.001568      424248  365637.108737  -58610.891263\n",
       "1231508  0.001452      329233  353555.397517   24322.397517\n",
       "1273602  0.001250       48614  332657.302433  284043.302433\n",
       "1442984  0.000566      990860  261690.854544 -729169.145456"
      ]
     },
     "execution_count": 15,
     "metadata": {},
     "output_type": "execute_result"
    }
   ],
   "source": [
    "#Calculate the residuals as a new column in my dataframe\n",
    "train['residuals'] = train['yhat'] - train['home_value']\n",
    "train.head()"
   ]
  },
  {
   "cell_type": "code",
   "execution_count": 16,
   "id": "e880aa00",
   "metadata": {},
   "outputs": [
    {
     "data": {
      "text/plain": [
       "Text(0.5, 1.0, 'Residual vs Home Value Plot')"
      ]
     },
     "execution_count": 16,
     "metadata": {},
     "output_type": "execute_result"
    },
    {
     "data": {
      "image/png": "[encoded data removed]",
      "text/plain": [
       "<Figure size 432x288 with 1 Axes>"
      ]
     },
     "metadata": {
      "needs_background": "light"
     },
     "output_type": "display_data"
    }
   ],
   "source": [
    "#Plot my residuals over the home value\n",
    "plt.scatter(x='home_value', y='residuals', data=train)\n",
    "plt.xlabel('Home Value')\n",
    "plt.ylabel('Residuals')\n",
    "plt.title('Residual vs Home Value Plot')"
   ]
  },
  {
   "cell_type": "markdown",
   "id": "f2dc26c8",
   "metadata": {},
   "source": [
    "### 4. Calculate the sum of squared errors, explained sum of squares, total sum of squares, mean squared error, and root mean squared error for your model."
   ]
  },
  {
   "cell_type": "code",
   "execution_count": null,
   "id": "a61d91ee",
   "metadata": {},
   "outputs": [],
   "source": []
  },
  {
   "cell_type": "code",
   "execution_count": null,
   "id": "f471a2cc",
   "metadata": {},
   "outputs": [],
   "source": []
  },
  {
   "cell_type": "code",
   "execution_count": null,
   "id": "a1f1dcf8",
   "metadata": {},
   "outputs": [],
   "source": []
  },
  {
   "cell_type": "code",
   "execution_count": null,
   "id": "e7d35ef7",
   "metadata": {},
   "outputs": [],
   "source": []
  },
  {
   "cell_type": "code",
   "execution_count": null,
   "id": "176e2d17",
   "metadata": {},
   "outputs": [],
   "source": []
  },
  {
   "cell_type": "code",
   "execution_count": null,
   "id": "93b96ab6",
   "metadata": {},
   "outputs": [],
   "source": []
  },
  {
   "cell_type": "code",
   "execution_count": null,
   "id": "c43b49d1",
   "metadata": {},
   "outputs": [],
   "source": []
  },
  {
   "cell_type": "code",
   "execution_count": null,
   "id": "197ab117",
   "metadata": {},
   "outputs": [],
   "source": []
  },
  {
   "cell_type": "code",
   "execution_count": null,
   "id": "53b55822",
   "metadata": {},
   "outputs": [],
   "source": []
  },
  {
   "cell_type": "code",
   "execution_count": null,
   "id": "c7214431",
   "metadata": {},
   "outputs": [],
   "source": []
  },
  {
   "cell_type": "code",
   "execution_count": null,
   "id": "9132d3ba",
   "metadata": {},
   "outputs": [],
   "source": []
  }
 ],
 "metadata": {
  "kernelspec": {
   "display_name": "Python 3 (ipykernel)",
   "language": "python",
   "name": "python3"
  },
  "language_info": {
   "codemirror_mode": {
    "name": "ipython",
    "version": 3
   },
   "file_extension": ".py",
   "mimetype": "text/x-python",
   "name": "python",
   "nbconvert_exporter": "python",
   "pygments_lexer": "ipython3",
   "version": "3.9.12"
  }
 },
 "nbformat": 4,
 "nbformat_minor": 5
}
