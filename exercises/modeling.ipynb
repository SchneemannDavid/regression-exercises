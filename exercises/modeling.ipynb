{
 "cells": [
  {
   "cell_type": "markdown",
   "id": "cb402c0c",
   "metadata": {},
   "source": [
    "# Regression Modeling Exercises"
   ]
  },
  {
   "cell_type": "code",
   "execution_count": 1,
   "id": "ccc319f8",
   "metadata": {},
   "outputs": [],
   "source": [
    "import warnings\n",
    "warnings.filterwarnings(\"ignore\")\n",
    "\n",
    "import pandas as pd\n",
    "import numpy as np\n",
    "import matplotlib.pyplot as plt\n",
    "import seaborn as sns\n",
    "from math import sqrt\n",
    "\n",
    "from sklearn.model_selection import train_test_split\n",
    "from sklearn.feature_selection import SelectKBest, RFE, f_regression, SequentialFeatureSelector\n",
    "from sklearn.linear_model import LinearRegression, LassoLars, TweedieRegressor\n",
    "from scipy import stats\n",
    "import sklearn.preprocessing\n",
    "from sklearn.metrics import mean_squared_error\n",
    "from scipy.stats import pearsonr, spearmanr, kruskal\n",
    "\n",
    "\n",
    "from env import user, password, host\n",
    "import acquire\n",
    "import prepare\n",
    "import explore\n",
    "import model"
   ]
  },
  {
   "cell_type": "code",
   "execution_count": 2,
   "id": "5c4f8612",
   "metadata": {},
   "outputs": [],
   "source": [
    "# Calling my acquire function and assigning the output to df\n",
    "df = acquire.wrangle_zillow()"
   ]
  },
  {
   "cell_type": "code",
   "execution_count": 3,
   "id": "8ec35442",
   "metadata": {},
   "outputs": [],
   "source": [
    "import pandas as pd\n",
    "import numpy as np\n",
    "from sklearn.model_selection import train_test_split\n",
    "import os\n",
    "from env import user, password, host\n",
    " \n",
    "def handle_nulls(df):    \n",
    "    # We keep 99.41% of the data after dropping nulls\n",
    "    # round(df.dropna().shape[0] / df.shape[0], 4) returned .9941\n",
    "    df = df.dropna()\n",
    "    return df\n",
    "\n",
    "\n",
    "def optimize_types(df):\n",
    "    # Convert some columns to integers for optimization\n",
    "    # fips, yearbuilt, and bedrooms, taxvaluedollarcnt, and calculatedfinishedsquarefeet can be integers\n",
    "    df[\"fips\"] = df[\"fips\"].astype(int)\n",
    "    df[\"yearbuilt\"] = df[\"yearbuilt\"].astype(int)\n",
    "    df[\"bedroomcnt\"] = df[\"bedroomcnt\"].astype(int)    \n",
    "    df[\"taxvaluedollarcnt\"] = df[\"taxvaluedollarcnt\"].astype(int)\n",
    "    df[\"calculatedfinishedsquarefeet\"] = df[\"calculatedfinishedsquarefeet\"].astype(int)\n",
    "    return df\n",
    "\n",
    "\n",
    "def handle_outliers(df):\n",
    "    \"\"\"Manually handle outliers that do not represent properties likely for 99% of buyers and zillow visitors\"\"\"\n",
    "    df = df[df.bathroomcnt <= 6]\n",
    "    \n",
    "    df = df[df.bedroomcnt <= 6]\n",
    "\n",
    "    df = df[df.taxvaluedollarcnt < 1_500_000]\n",
    "\n",
    "    return df\n",
    "\n",
    "def clean_variables(df):\n",
    "    # Drop 'taxamount' column (variable is inconsistent based on time and location of collected value, could lead to poor analysis)\n",
    "    # Rename columns and 'fips' values to reflect actual location (to solidify column as categorical variable)\n",
    "    df = df.drop(columns = 'taxamount')\n",
    "    df = df.rename(columns = {'bedroomcnt':'bedrooms', \n",
    "                              'bathroomcnt':'bathrooms', \n",
    "                              'calculatedfinishedsquarefeet':'sq_ft', \n",
    "                              'taxvaluedollarcnt':'home_value', \n",
    "                              'yearbuilt':'year_built', \n",
    "                              'fips':'location',\n",
    "                              'fullbathcnt':'full_bathrooms',\n",
    "                              'garagecarcnt':'garage_spaces',\n",
    "                              'lotsizesquarefeet':'lot_sq_ft'\n",
    "                             })\n",
    "    df.location = df.location.replace(to_replace={6037:'LA County', 6059:'Orange County', 6111:'Ventura County'})\n",
    "\n",
    "    return df \n",
    "\n",
    "def feature_engineering(df):\n",
    "    # Bin `year_built` by decade\n",
    "    df[\"decade_built\"] = pd.cut(x=df[\"year_built\"], bins=[1800, 1899, 1909, 1919, 1929, 1939, 1949, 1959, 1969, 1979, 1989, 1999, 2009], labels=['1800s', '1900s', '10s', '20s', '30s', '40s', '50s', '60s', '70s', '80s', '90s', '2000s'])\n",
    "    # Convert categorical variable to numeric var\n",
    "    df['county_encoded'] = df.location.map({'LA County': 0, 'Orange County': 1, 'Ventura County': 2})\n",
    "\n",
    "    df = df.dropna()\n",
    "\n",
    "    return df\n",
    "\n",
    "# Split for Exploration\n",
    "\n",
    "## \n",
    "# Train, Validate, Test Split Function: for exploration\n",
    "def zillow_split_explore(df):\n",
    "    '''\n",
    "    This function performs split on telco data, stratifying on churn.\n",
    "    Returns train, validate, and test dfs.\n",
    "    '''\n",
    "    train_validate, test = train_test_split(df, test_size=.2,\n",
    "                                        random_state=123)\n",
    "    train, validate = train_test_split(train_validate, test_size=.3,\n",
    "                                   random_state=123)\n",
    "    return train, validate, test\n",
    "\n",
    "### ------------------------------------------------------------------------\n",
    "\n",
    "# Split for Modeling: X & Y dfs\n",
    "def zillow_split_model(df):\n",
    "    '''\n",
    "    This function performs split on telco data, stratifying on churn.\n",
    "    Returns both X and y train, validate, and test dfs\n",
    "    '''\n",
    "    \n",
    "    train_validate, test = train_test_split(df, test_size=.2,\n",
    "                                        random_state=123)\n",
    "    train, validate = train_test_split(train_validate, test_size=.3,\n",
    "                                   random_state=123)\n",
    "\n",
    "    # Splitting train, validate, and test dfs on x and y\n",
    "    x_train = train.drop(columns=['home_value'])\n",
    "    x_validate = validate.drop(columns=['home_value'])\n",
    "    x_test = test.drop(columns=['home_value'])\n",
    "\n",
    "    y_train = train['home_value']\n",
    "    y_validate = validate['home_value']\n",
    "    y_test = test['home_value']\n",
    "    \n",
    "    return x_train, y_train, x_validate, y_validate, x_test, y_test\n",
    "\n",
    "\n",
    "def prep_zillow(df):\n",
    "    \"\"\"\n",
    "    Handles nulls\n",
    "    optimizes or fixes data types\n",
    "    handles outliers w/ manual logic\n",
    "    clean variables via dropping columns and renaming features\n",
    "    includes feature engineering \n",
    "    returns a clean dataframe\n",
    "    Splits df into train, validate, test, and associated dfs on x and y \n",
    "    \"\"\"\n",
    "    df = handle_nulls(df)\n",
    "\n",
    "    df = optimize_types(df)\n",
    "\n",
    "    df = handle_outliers(df)\n",
    "\n",
    "    df = clean_variables(df)\n",
    "\n",
    "    df = feature_engineering(df)\n",
    "\n",
    "    train, validate, test = zillow_split_explore(df)\n",
    "\n",
    "    x_train, y_train, x_validate, y_validate, x_test, y_test = zillow_split_model(df)\n",
    "\n",
    "    # df.to_csv(\"zillow.csv\", index=False)\n",
    "\n",
    "    return df, train, validate, test, x_train, y_train, x_validate, y_validate, x_test, y_test"
   ]
  },
  {
   "cell_type": "code",
   "execution_count": 4,
   "id": "11d36b14",
   "metadata": {
    "scrolled": true
   },
   "outputs": [],
   "source": [
    "df, train, validate, test, x_train, y_train, x_validate, y_validate, x_test, y_test = prep_zillow(df)"
   ]
  },
  {
   "cell_type": "code",
   "execution_count": 5,
   "id": "28d27ec3",
   "metadata": {},
   "outputs": [],
   "source": [
    "from sklearn.preprocessing import MinMaxScaler\n",
    "#Define function to scale all data based on the train subset\n",
    "def scale_data(train, validate, test):\n",
    "    \n",
    "    scale_columns = ['bedrooms', 'bathrooms', 'sq_ft']\n",
    "    \n",
    "    train_scaled = train.copy()\n",
    "    validate_scaled = validate.copy()\n",
    "    test_scaled = test.copy()\n",
    "    \n",
    "    mms = MinMaxScaler()\n",
    "    \n",
    "    mms.fit(train[scale_columns])\n",
    "    \n",
    "    train_scaled[scale_columns] = mms.transform(train[scale_columns])\n",
    "    validate_scaled[scale_columns] = mms.transform(validate[scale_columns])\n",
    "    test_scaled[scale_columns] = mms.transform(test[scale_columns])\n",
    "    \n",
    "    return train_scaled, validate_scaled, test_scaled"
   ]
  },
  {
   "cell_type": "code",
   "execution_count": 6,
   "id": "4c0905e9",
   "metadata": {
    "scrolled": true
   },
   "outputs": [],
   "source": [
    "# Calling our model.py; Assigning df variables to our called function, `scale_data`\n",
    "train_scaled, validate_scaled, test_scaled = scale_data(train, validate, test)"
   ]
  },
  {
   "cell_type": "code",
   "execution_count": 7,
   "id": "fa6c7df7",
   "metadata": {},
   "outputs": [],
   "source": [
    "# Dropping extraneous features no longer relevant to modeling\n",
    "train_scaled = train_scaled.drop(columns = ['location', 'decade_built'])\n",
    "validate_scaled = validate_scaled.drop(columns = ['location', 'decade_built'])\n",
    "test_scaled = test_scaled.drop(columns = ['location', 'decade_built'])"
   ]
  },
  {
   "cell_type": "code",
   "execution_count": 8,
   "id": "075e8103",
   "metadata": {},
   "outputs": [],
   "source": [
    "# Splitting train, validate, and test dfs on x and y FOR SCALED DF\n",
    "x_train_scaled = train_scaled.drop(columns=['home_value'])\n",
    "x_validate_scaled = validate_scaled.drop(columns=['home_value'])\n",
    "x_test_scaled = test_scaled.drop(columns=['home_value'])\n",
    "\n",
    "y_train_scaled = train_scaled['home_value']\n",
    "y_validate_scaled = validate_scaled['home_value']\n",
    "y_test_scaled = test_scaled['home_value']"
   ]
  },
  {
   "cell_type": "markdown",
   "id": "609b6b57",
   "metadata": {},
   "source": [
    "### Begin Modeling"
   ]
  },
  {
   "cell_type": "markdown",
   "id": "8447b6aa",
   "metadata": {},
   "source": [
    "#### Baseline"
   ]
  },
  {
   "cell_type": "code",
   "execution_count": 9,
   "id": "9ce7bb4f",
   "metadata": {},
   "outputs": [],
   "source": [
    "#Establish baselines for the train and validation datasets\n",
    "baseline = train['home_value'].mean()"
   ]
  },
  {
   "cell_type": "code",
   "execution_count": 10,
   "id": "135ef68f",
   "metadata": {},
   "outputs": [],
   "source": [
    "train['baseline'] = baseline\n",
    "validate['baseline'] = baseline\n",
    "test['baseline'] = baseline"
   ]
  },
  {
   "cell_type": "code",
   "execution_count": 11,
   "id": "5c917041",
   "metadata": {},
   "outputs": [],
   "source": [
    "train_rmse = sqrt(mean_squared_error(train['home_value'], train.baseline))\n",
    "validate_rmse = sqrt(mean_squared_error(validate['home_value'], validate.baseline))\n",
    "test_rmse = sqrt(mean_squared_error(test['home_value'], test.baseline))"
   ]
  },
  {
   "cell_type": "code",
   "execution_count": 12,
   "id": "5d56a3bf",
   "metadata": {},
   "outputs": [
    {
     "name": "stdout",
     "output_type": "stream",
     "text": [
      "Train baseline RMSE: 269907.8380289604.\n",
      "Validation baseline RMSE: 271021.9790555932.\n",
      "Test baseline RMSE: 269541.2621903645.\n"
     ]
    }
   ],
   "source": [
    "print('Train baseline RMSE: {}.'.format(train_rmse))\n",
    "print('Validation baseline RMSE: {}.'.format(validate_rmse))\n",
    "print('Test baseline RMSE: {}.'.format(test_rmse))"
   ]
  },
  {
   "cell_type": "code",
   "execution_count": 13,
   "id": "a75face6",
   "metadata": {},
   "outputs": [
    {
     "data": {
      "text/plain": [
       "<matplotlib.legend.Legend at 0x7ff3102bef40>"
      ]
     },
     "execution_count": 13,
     "metadata": {},
     "output_type": "execute_result"
    },
    {
     "data": {
      "image/png": "[encoded data removed]",
      "text/plain": [
       "<Figure size 432x288 with 1 Axes>"
      ]
     },
     "metadata": {
      "needs_background": "light"
     },
     "output_type": "display_data"
    }
   ],
   "source": [
    "#Plot my train baseline against the actual home_value distribution\n",
    "plt.hist(train['home_value'], color='blue', alpha=0.5, label='Actual Home Value')\n",
    "plt.hist(train.baseline, color='orange', alpha=0.5, label='Baseline')\n",
    "plt.xlabel('Home Value')\n",
    "plt.ylabel('Frequency')\n",
    "plt.legend()"
   ]
  },
  {
   "cell_type": "code",
   "execution_count": 14,
   "id": "de72db13",
   "metadata": {},
   "outputs": [],
   "source": [
    "train_predictions = pd.DataFrame({\n",
    "    'actual': train['home_value'],\n",
    "    'baseline': baseline\n",
    "}) \n",
    "\n",
    "train_predictions.head()\n",
    "\n",
    "predictions = pd.DataFrame({\n",
    "    'actual': validate['home_value'],\n",
    "    'baseline': baseline\n",
    "}) "
   ]
  },
  {
   "cell_type": "code",
   "execution_count": 15,
   "id": "a1c3397e",
   "metadata": {},
   "outputs": [
    {
     "data": {
      "text/html": [
       "<div>\n",
       "<style scoped>\n",
       "    .dataframe tbody tr th:only-of-type {\n",
       "        vertical-align: middle;\n",
       "    }\n",
       "\n",
       "    .dataframe tbody tr th {\n",
       "        vertical-align: top;\n",
       "    }\n",
       "\n",
       "    .dataframe thead th {\n",
       "        text-align: right;\n",
       "    }\n",
       "</style>\n",
       "<table border=\"1\" class=\"dataframe\">\n",
       "  <thead>\n",
       "    <tr style=\"text-align: right;\">\n",
       "      <th></th>\n",
       "      <th>actual</th>\n",
       "      <th>baseline</th>\n",
       "    </tr>\n",
       "  </thead>\n",
       "  <tbody>\n",
       "    <tr>\n",
       "      <th>1953946</th>\n",
       "      <td>380718</td>\n",
       "      <td>376327.765369</td>\n",
       "    </tr>\n",
       "    <tr>\n",
       "      <th>920890</th>\n",
       "      <td>211774</td>\n",
       "      <td>376327.765369</td>\n",
       "    </tr>\n",
       "    <tr>\n",
       "      <th>105171</th>\n",
       "      <td>293112</td>\n",
       "      <td>376327.765369</td>\n",
       "    </tr>\n",
       "    <tr>\n",
       "      <th>54562</th>\n",
       "      <td>23561</td>\n",
       "      <td>376327.765369</td>\n",
       "    </tr>\n",
       "    <tr>\n",
       "      <th>960127</th>\n",
       "      <td>383054</td>\n",
       "      <td>376327.765369</td>\n",
       "    </tr>\n",
       "  </tbody>\n",
       "</table>\n",
       "</div>"
      ],
      "text/plain": [
       "         actual       baseline\n",
       "1953946  380718  376327.765369\n",
       "920890   211774  376327.765369\n",
       "105171   293112  376327.765369\n",
       "54562     23561  376327.765369\n",
       "960127   383054  376327.765369"
      ]
     },
     "execution_count": 15,
     "metadata": {},
     "output_type": "execute_result"
    }
   ],
   "source": [
    "predictions.head()"
   ]
  },
  {
   "cell_type": "markdown",
   "id": "ba267638",
   "metadata": {},
   "source": [
    "#### Fitting Linear Regression"
   ]
  },
  {
   "cell_type": "code",
   "execution_count": 16,
   "id": "a33a8f87",
   "metadata": {},
   "outputs": [
    {
     "name": "stdout",
     "output_type": "stream",
     "text": [
      "<class 'pandas.core.frame.DataFrame'>\n",
      "Int64Index: 1146837 entries, 1779084 to 955507\n",
      "Data columns (total 5 columns):\n",
      " #   Column          Non-Null Count    Dtype  \n",
      "---  ------          --------------    -----  \n",
      " 0   bedrooms        1146837 non-null  float64\n",
      " 1   bathrooms       1146837 non-null  float64\n",
      " 2   sq_ft           1146837 non-null  float64\n",
      " 3   year_built      1146837 non-null  int64  \n",
      " 4   county_encoded  1146837 non-null  int64  \n",
      "dtypes: float64(3), int64(2)\n",
      "memory usage: 52.5 MB\n"
     ]
    }
   ],
   "source": [
    "x_train_scaled.info()"
   ]
  },
  {
   "cell_type": "code",
   "execution_count": 17,
   "id": "e577ac3a",
   "metadata": {},
   "outputs": [],
   "source": [
    "#Create an instance of the model and fit it to my data\n",
    "lm = LinearRegression().fit(x_train_scaled, y_train_scaled)"
   ]
  },
  {
   "cell_type": "code",
   "execution_count": 18,
   "id": "b43b241a",
   "metadata": {},
   "outputs": [],
   "source": [
    "train_predictions['simple_lm'] = lm.predict(x_train_scaled)\n",
    "predictions['simple_lm'] = lm.predict(x_validate_scaled)"
   ]
  },
  {
   "cell_type": "code",
   "execution_count": 19,
   "id": "784d2282",
   "metadata": {},
   "outputs": [
    {
     "data": {
      "text/html": [
       "<div>\n",
       "<style scoped>\n",
       "    .dataframe tbody tr th:only-of-type {\n",
       "        vertical-align: middle;\n",
       "    }\n",
       "\n",
       "    .dataframe tbody tr th {\n",
       "        vertical-align: top;\n",
       "    }\n",
       "\n",
       "    .dataframe thead th {\n",
       "        text-align: right;\n",
       "    }\n",
       "</style>\n",
       "<table border=\"1\" class=\"dataframe\">\n",
       "  <thead>\n",
       "    <tr style=\"text-align: right;\">\n",
       "      <th></th>\n",
       "      <th>actual</th>\n",
       "      <th>baseline</th>\n",
       "      <th>simple_lm</th>\n",
       "    </tr>\n",
       "  </thead>\n",
       "  <tbody>\n",
       "    <tr>\n",
       "      <th>1779084</th>\n",
       "      <td>680993</td>\n",
       "      <td>376327.765369</td>\n",
       "      <td>669764.947416</td>\n",
       "    </tr>\n",
       "    <tr>\n",
       "      <th>630679</th>\n",
       "      <td>109930</td>\n",
       "      <td>376327.765369</td>\n",
       "      <td>361612.605705</td>\n",
       "    </tr>\n",
       "    <tr>\n",
       "      <th>611984</th>\n",
       "      <td>342551</td>\n",
       "      <td>376327.765369</td>\n",
       "      <td>347925.439986</td>\n",
       "    </tr>\n",
       "    <tr>\n",
       "      <th>388401</th>\n",
       "      <td>294687</td>\n",
       "      <td>376327.765369</td>\n",
       "      <td>373113.848281</td>\n",
       "    </tr>\n",
       "    <tr>\n",
       "      <th>680564</th>\n",
       "      <td>456245</td>\n",
       "      <td>376327.765369</td>\n",
       "      <td>505373.146285</td>\n",
       "    </tr>\n",
       "  </tbody>\n",
       "</table>\n",
       "</div>"
      ],
      "text/plain": [
       "         actual       baseline      simple_lm\n",
       "1779084  680993  376327.765369  669764.947416\n",
       "630679   109930  376327.765369  361612.605705\n",
       "611984   342551  376327.765369  347925.439986\n",
       "388401   294687  376327.765369  373113.848281\n",
       "680564   456245  376327.765369  505373.146285"
      ]
     },
     "execution_count": 19,
     "metadata": {},
     "output_type": "execute_result"
    }
   ],
   "source": [
    "train_predictions.head()"
   ]
  },
  {
   "cell_type": "code",
   "execution_count": 20,
   "id": "52cb7570",
   "metadata": {},
   "outputs": [
    {
     "data": {
      "text/html": [
       "<div>\n",
       "<style scoped>\n",
       "    .dataframe tbody tr th:only-of-type {\n",
       "        vertical-align: middle;\n",
       "    }\n",
       "\n",
       "    .dataframe tbody tr th {\n",
       "        vertical-align: top;\n",
       "    }\n",
       "\n",
       "    .dataframe thead th {\n",
       "        text-align: right;\n",
       "    }\n",
       "</style>\n",
       "<table border=\"1\" class=\"dataframe\">\n",
       "  <thead>\n",
       "    <tr style=\"text-align: right;\">\n",
       "      <th></th>\n",
       "      <th>actual</th>\n",
       "      <th>baseline</th>\n",
       "      <th>simple_lm</th>\n",
       "    </tr>\n",
       "  </thead>\n",
       "  <tbody>\n",
       "    <tr>\n",
       "      <th>1953946</th>\n",
       "      <td>380718</td>\n",
       "      <td>376327.765369</td>\n",
       "      <td>188223.804656</td>\n",
       "    </tr>\n",
       "    <tr>\n",
       "      <th>920890</th>\n",
       "      <td>211774</td>\n",
       "      <td>376327.765369</td>\n",
       "      <td>455180.726151</td>\n",
       "    </tr>\n",
       "    <tr>\n",
       "      <th>105171</th>\n",
       "      <td>293112</td>\n",
       "      <td>376327.765369</td>\n",
       "      <td>381808.695194</td>\n",
       "    </tr>\n",
       "    <tr>\n",
       "      <th>54562</th>\n",
       "      <td>23561</td>\n",
       "      <td>376327.765369</td>\n",
       "      <td>183800.344563</td>\n",
       "    </tr>\n",
       "    <tr>\n",
       "      <th>960127</th>\n",
       "      <td>383054</td>\n",
       "      <td>376327.765369</td>\n",
       "      <td>486463.948436</td>\n",
       "    </tr>\n",
       "  </tbody>\n",
       "</table>\n",
       "</div>"
      ],
      "text/plain": [
       "         actual       baseline      simple_lm\n",
       "1953946  380718  376327.765369  188223.804656\n",
       "920890   211774  376327.765369  455180.726151\n",
       "105171   293112  376327.765369  381808.695194\n",
       "54562     23561  376327.765369  183800.344563\n",
       "960127   383054  376327.765369  486463.948436"
      ]
     },
     "execution_count": 20,
     "metadata": {},
     "output_type": "execute_result"
    }
   ],
   "source": [
    "predictions.head()"
   ]
  },
  {
   "cell_type": "markdown",
   "id": "3cacee15",
   "metadata": {},
   "source": [
    "#### Fitting Lasso-Lars Regression"
   ]
  },
  {
   "cell_type": "code",
   "execution_count": 21,
   "id": "5348699e",
   "metadata": {},
   "outputs": [],
   "source": [
    "# Starting at alpha = 1.0\n",
    "\n",
    "# create the model object\n",
    "lars = LassoLars(alpha=1)\n",
    "\n",
    "# fit the model to our training data\n",
    "lars.fit(x_train_scaled, y_train_scaled)\n",
    "\n",
    "# predict train\n",
    "train_predictions['lasso_lars_a_1'] = lars.predict(x_train_scaled)\n",
    "\n",
    "# predict validate\n",
    "predictions['lasso_lars_a_1'] = lars.predict(x_validate_scaled)"
   ]
  },
  {
   "cell_type": "code",
   "execution_count": 22,
   "id": "3ed30ba9",
   "metadata": {},
   "outputs": [],
   "source": [
    "# alpha = 0.5\n",
    "\n",
    "# create the model object\n",
    "lars = LassoLars(alpha=0.5)\n",
    "\n",
    "# fit the model to our training data\n",
    "lars.fit(x_train_scaled, y_train_scaled)\n",
    "\n",
    "# predict train\n",
    "train_predictions['lasso_lars_a_05'] = lars.predict(x_train_scaled)\n",
    "\n",
    "# predict validate\n",
    "predictions['lasso_lars_a_05'] = lars.predict(x_validate_scaled)"
   ]
  },
  {
   "cell_type": "code",
   "execution_count": 23,
   "id": "b2b2cc23",
   "metadata": {},
   "outputs": [],
   "source": [
    "# alpha = 2\n",
    "\n",
    "# create the model object\n",
    "lars = LassoLars(alpha=2)\n",
    "\n",
    "# fit the model to our training data\n",
    "lars.fit(x_train_scaled, y_train_scaled)\n",
    "\n",
    "# predict train\n",
    "train_predictions['lasso_lars_a_2'] = lars.predict(x_train_scaled)\n",
    "\n",
    "# predict validate\n",
    "predictions['lasso_lars_a_2'] = lars.predict(x_validate_scaled)"
   ]
  },
  {
   "cell_type": "code",
   "execution_count": 24,
   "id": "288e74c8",
   "metadata": {},
   "outputs": [
    {
     "data": {
      "text/html": [
       "<div>\n",
       "<style scoped>\n",
       "    .dataframe tbody tr th:only-of-type {\n",
       "        vertical-align: middle;\n",
       "    }\n",
       "\n",
       "    .dataframe tbody tr th {\n",
       "        vertical-align: top;\n",
       "    }\n",
       "\n",
       "    .dataframe thead th {\n",
       "        text-align: right;\n",
       "    }\n",
       "</style>\n",
       "<table border=\"1\" class=\"dataframe\">\n",
       "  <thead>\n",
       "    <tr style=\"text-align: right;\">\n",
       "      <th></th>\n",
       "      <th>actual</th>\n",
       "      <th>baseline</th>\n",
       "      <th>simple_lm</th>\n",
       "      <th>lasso_lars_a_1</th>\n",
       "      <th>lasso_lars_a_05</th>\n",
       "      <th>lasso_lars_a_2</th>\n",
       "    </tr>\n",
       "  </thead>\n",
       "  <tbody>\n",
       "    <tr>\n",
       "      <th>1779084</th>\n",
       "      <td>680993</td>\n",
       "      <td>376327.765369</td>\n",
       "      <td>669764.947416</td>\n",
       "      <td>667971.229140</td>\n",
       "      <td>668868.088278</td>\n",
       "      <td>666177.510864</td>\n",
       "    </tr>\n",
       "    <tr>\n",
       "      <th>630679</th>\n",
       "      <td>109930</td>\n",
       "      <td>376327.765369</td>\n",
       "      <td>361612.605705</td>\n",
       "      <td>360667.086566</td>\n",
       "      <td>361139.846135</td>\n",
       "      <td>359721.567427</td>\n",
       "    </tr>\n",
       "    <tr>\n",
       "      <th>611984</th>\n",
       "      <td>342551</td>\n",
       "      <td>376327.765369</td>\n",
       "      <td>347925.439986</td>\n",
       "      <td>348325.067327</td>\n",
       "      <td>348125.253657</td>\n",
       "      <td>348724.694668</td>\n",
       "    </tr>\n",
       "    <tr>\n",
       "      <th>388401</th>\n",
       "      <td>294687</td>\n",
       "      <td>376327.765369</td>\n",
       "      <td>373113.848281</td>\n",
       "      <td>369817.000195</td>\n",
       "      <td>371465.424238</td>\n",
       "      <td>366520.152109</td>\n",
       "    </tr>\n",
       "    <tr>\n",
       "      <th>680564</th>\n",
       "      <td>456245</td>\n",
       "      <td>376327.765369</td>\n",
       "      <td>505373.146285</td>\n",
       "      <td>504959.544395</td>\n",
       "      <td>505166.345340</td>\n",
       "      <td>504545.942505</td>\n",
       "    </tr>\n",
       "  </tbody>\n",
       "</table>\n",
       "</div>"
      ],
      "text/plain": [
       "         actual       baseline      simple_lm  lasso_lars_a_1  \\\n",
       "1779084  680993  376327.765369  669764.947416   667971.229140   \n",
       "630679   109930  376327.765369  361612.605705   360667.086566   \n",
       "611984   342551  376327.765369  347925.439986   348325.067327   \n",
       "388401   294687  376327.765369  373113.848281   369817.000195   \n",
       "680564   456245  376327.765369  505373.146285   504959.544395   \n",
       "\n",
       "         lasso_lars_a_05  lasso_lars_a_2  \n",
       "1779084    668868.088278   666177.510864  \n",
       "630679     361139.846135   359721.567427  \n",
       "611984     348125.253657   348724.694668  \n",
       "388401     371465.424238   366520.152109  \n",
       "680564     505166.345340   504545.942505  "
      ]
     },
     "execution_count": 24,
     "metadata": {},
     "output_type": "execute_result"
    }
   ],
   "source": [
    "train_predictions.head()"
   ]
  },
  {
   "cell_type": "code",
   "execution_count": 25,
   "id": "7595db67",
   "metadata": {},
   "outputs": [
    {
     "data": {
      "text/html": [
       "<div>\n",
       "<style scoped>\n",
       "    .dataframe tbody tr th:only-of-type {\n",
       "        vertical-align: middle;\n",
       "    }\n",
       "\n",
       "    .dataframe tbody tr th {\n",
       "        vertical-align: top;\n",
       "    }\n",
       "\n",
       "    .dataframe thead th {\n",
       "        text-align: right;\n",
       "    }\n",
       "</style>\n",
       "<table border=\"1\" class=\"dataframe\">\n",
       "  <thead>\n",
       "    <tr style=\"text-align: right;\">\n",
       "      <th></th>\n",
       "      <th>actual</th>\n",
       "      <th>baseline</th>\n",
       "      <th>simple_lm</th>\n",
       "      <th>lasso_lars_a_1</th>\n",
       "      <th>lasso_lars_a_05</th>\n",
       "      <th>lasso_lars_a_2</th>\n",
       "    </tr>\n",
       "  </thead>\n",
       "  <tbody>\n",
       "    <tr>\n",
       "      <th>1953946</th>\n",
       "      <td>380718</td>\n",
       "      <td>376327.765369</td>\n",
       "      <td>188223.804656</td>\n",
       "      <td>191665.053713</td>\n",
       "      <td>189944.429185</td>\n",
       "      <td>195106.302770</td>\n",
       "    </tr>\n",
       "    <tr>\n",
       "      <th>920890</th>\n",
       "      <td>211774</td>\n",
       "      <td>376327.765369</td>\n",
       "      <td>455180.726151</td>\n",
       "      <td>451742.155629</td>\n",
       "      <td>453461.440890</td>\n",
       "      <td>448303.585108</td>\n",
       "    </tr>\n",
       "    <tr>\n",
       "      <th>105171</th>\n",
       "      <td>293112</td>\n",
       "      <td>376327.765369</td>\n",
       "      <td>381808.695194</td>\n",
       "      <td>378505.204237</td>\n",
       "      <td>380156.949715</td>\n",
       "      <td>375201.713281</td>\n",
       "    </tr>\n",
       "    <tr>\n",
       "      <th>54562</th>\n",
       "      <td>23561</td>\n",
       "      <td>376327.765369</td>\n",
       "      <td>183800.344563</td>\n",
       "      <td>187286.362799</td>\n",
       "      <td>185543.353681</td>\n",
       "      <td>190772.381035</td>\n",
       "    </tr>\n",
       "    <tr>\n",
       "      <th>960127</th>\n",
       "      <td>383054</td>\n",
       "      <td>376327.765369</td>\n",
       "      <td>486463.948436</td>\n",
       "      <td>489977.327740</td>\n",
       "      <td>488220.638088</td>\n",
       "      <td>493490.707044</td>\n",
       "    </tr>\n",
       "  </tbody>\n",
       "</table>\n",
       "</div>"
      ],
      "text/plain": [
       "         actual       baseline      simple_lm  lasso_lars_a_1  \\\n",
       "1953946  380718  376327.765369  188223.804656   191665.053713   \n",
       "920890   211774  376327.765369  455180.726151   451742.155629   \n",
       "105171   293112  376327.765369  381808.695194   378505.204237   \n",
       "54562     23561  376327.765369  183800.344563   187286.362799   \n",
       "960127   383054  376327.765369  486463.948436   489977.327740   \n",
       "\n",
       "         lasso_lars_a_05  lasso_lars_a_2  \n",
       "1953946    189944.429185   195106.302770  \n",
       "920890     453461.440890   448303.585108  \n",
       "105171     380156.949715   375201.713281  \n",
       "54562      185543.353681   190772.381035  \n",
       "960127     488220.638088   493490.707044  "
      ]
     },
     "execution_count": 25,
     "metadata": {},
     "output_type": "execute_result"
    }
   ],
   "source": [
    "predictions.head()"
   ]
  },
  {
   "cell_type": "markdown",
   "id": "d819b555",
   "metadata": {},
   "source": [
    "#### Fitting TweediRegressor (Generalized Linear Model, GLM)"
   ]
  },
  {
   "cell_type": "code",
   "execution_count": 26,
   "id": "b8d0808b",
   "metadata": {},
   "outputs": [],
   "source": [
    "# Start with power = 0 (assuming Normal Distribution)\n",
    "# create the model object\n",
    "##### why is alpha=1 ???????\n",
    "glm = TweedieRegressor(power=0, alpha=1)\n",
    "\n",
    "# fit the model to our training data\n",
    "glm.fit(x_train_scaled, y_train_scaled)\n",
    "\n",
    "# predict train, add to df\n",
    "train_predictions['glm_p_0'] = glm.predict(x_train_scaled)\n",
    "\n",
    "# predict validate, add to df\n",
    "predictions['glm_p_0'] = glm.predict(x_validate_scaled)"
   ]
  },
  {
   "cell_type": "code",
   "execution_count": 27,
   "id": "fc1d88ce",
   "metadata": {},
   "outputs": [],
   "source": [
    "# Now assuming Poisson Distribution, power = 1\n",
    "# create the model object\n",
    "glm = TweedieRegressor(power=1, alpha=1)\n",
    "\n",
    "# fit the model to our training data\n",
    "glm.fit(x_train_scaled, y_train_scaled)\n",
    "\n",
    "# predict train, add to df\n",
    "train_predictions['glm_p_1'] = glm.predict(x_train_scaled)\n",
    "\n",
    "# predict validate, add to df\n",
    "predictions['glm_p_1'] = glm.predict(x_validate_scaled)"
   ]
  },
  {
   "cell_type": "code",
   "execution_count": 28,
   "id": "ea632398",
   "metadata": {},
   "outputs": [
    {
     "data": {
      "text/html": [
       "<div>\n",
       "<style scoped>\n",
       "    .dataframe tbody tr th:only-of-type {\n",
       "        vertical-align: middle;\n",
       "    }\n",
       "\n",
       "    .dataframe tbody tr th {\n",
       "        vertical-align: top;\n",
       "    }\n",
       "\n",
       "    .dataframe thead th {\n",
       "        text-align: right;\n",
       "    }\n",
       "</style>\n",
       "<table border=\"1\" class=\"dataframe\">\n",
       "  <thead>\n",
       "    <tr style=\"text-align: right;\">\n",
       "      <th></th>\n",
       "      <th>actual</th>\n",
       "      <th>baseline</th>\n",
       "      <th>simple_lm</th>\n",
       "      <th>lasso_lars_a_1</th>\n",
       "      <th>lasso_lars_a_05</th>\n",
       "      <th>lasso_lars_a_2</th>\n",
       "      <th>glm_p_0</th>\n",
       "      <th>glm_p_1</th>\n",
       "    </tr>\n",
       "  </thead>\n",
       "  <tbody>\n",
       "    <tr>\n",
       "      <th>1779084</th>\n",
       "      <td>680993</td>\n",
       "      <td>376327.765369</td>\n",
       "      <td>669764.947416</td>\n",
       "      <td>667971.229140</td>\n",
       "      <td>668868.088278</td>\n",
       "      <td>666177.510864</td>\n",
       "      <td>508270.935914</td>\n",
       "      <td>376327.765369</td>\n",
       "    </tr>\n",
       "    <tr>\n",
       "      <th>630679</th>\n",
       "      <td>109930</td>\n",
       "      <td>376327.765369</td>\n",
       "      <td>361612.605705</td>\n",
       "      <td>360667.086566</td>\n",
       "      <td>361139.846135</td>\n",
       "      <td>359721.567427</td>\n",
       "      <td>492273.272855</td>\n",
       "      <td>376327.765369</td>\n",
       "    </tr>\n",
       "    <tr>\n",
       "      <th>611984</th>\n",
       "      <td>342551</td>\n",
       "      <td>376327.765369</td>\n",
       "      <td>347925.439986</td>\n",
       "      <td>348325.067327</td>\n",
       "      <td>348125.253657</td>\n",
       "      <td>348724.694668</td>\n",
       "      <td>351311.923031</td>\n",
       "      <td>376327.765369</td>\n",
       "    </tr>\n",
       "    <tr>\n",
       "      <th>388401</th>\n",
       "      <td>294687</td>\n",
       "      <td>376327.765369</td>\n",
       "      <td>373113.848281</td>\n",
       "      <td>369817.000195</td>\n",
       "      <td>371465.424238</td>\n",
       "      <td>366520.152109</td>\n",
       "      <td>360099.346820</td>\n",
       "      <td>376327.765369</td>\n",
       "    </tr>\n",
       "    <tr>\n",
       "      <th>680564</th>\n",
       "      <td>456245</td>\n",
       "      <td>376327.765369</td>\n",
       "      <td>505373.146285</td>\n",
       "      <td>504959.544395</td>\n",
       "      <td>505166.345340</td>\n",
       "      <td>504545.942505</td>\n",
       "      <td>475728.614104</td>\n",
       "      <td>376327.765369</td>\n",
       "    </tr>\n",
       "  </tbody>\n",
       "</table>\n",
       "</div>"
      ],
      "text/plain": [
       "         actual       baseline      simple_lm  lasso_lars_a_1  \\\n",
       "1779084  680993  376327.765369  669764.947416   667971.229140   \n",
       "630679   109930  376327.765369  361612.605705   360667.086566   \n",
       "611984   342551  376327.765369  347925.439986   348325.067327   \n",
       "388401   294687  376327.765369  373113.848281   369817.000195   \n",
       "680564   456245  376327.765369  505373.146285   504959.544395   \n",
       "\n",
       "         lasso_lars_a_05  lasso_lars_a_2        glm_p_0        glm_p_1  \n",
       "1779084    668868.088278   666177.510864  508270.935914  376327.765369  \n",
       "630679     361139.846135   359721.567427  492273.272855  376327.765369  \n",
       "611984     348125.253657   348724.694668  351311.923031  376327.765369  \n",
       "388401     371465.424238   366520.152109  360099.346820  376327.765369  \n",
       "680564     505166.345340   504545.942505  475728.614104  376327.765369  "
      ]
     },
     "execution_count": 28,
     "metadata": {},
     "output_type": "execute_result"
    }
   ],
   "source": [
    "train_predictions.head()"
   ]
  },
  {
   "cell_type": "code",
   "execution_count": 29,
   "id": "4e3b2944",
   "metadata": {},
   "outputs": [
    {
     "name": "stdout",
     "output_type": "stream",
     "text": [
      "<class 'pandas.core.frame.DataFrame'>\n",
      "Int64Index: 1146837 entries, 1779084 to 955507\n",
      "Data columns (total 8 columns):\n",
      " #   Column           Non-Null Count    Dtype  \n",
      "---  ------           --------------    -----  \n",
      " 0   actual           1146837 non-null  int64  \n",
      " 1   baseline         1146837 non-null  float64\n",
      " 2   simple_lm        1146837 non-null  float64\n",
      " 3   lasso_lars_a_1   1146837 non-null  float64\n",
      " 4   lasso_lars_a_05  1146837 non-null  float64\n",
      " 5   lasso_lars_a_2   1146837 non-null  float64\n",
      " 6   glm_p_0          1146837 non-null  float64\n",
      " 7   glm_p_1          1146837 non-null  float64\n",
      "dtypes: float64(7), int64(1)\n",
      "memory usage: 78.7 MB\n"
     ]
    }
   ],
   "source": [
    "train_predictions.info()"
   ]
  },
  {
   "cell_type": "code",
   "execution_count": 30,
   "id": "a46adfbe",
   "metadata": {},
   "outputs": [
    {
     "data": {
      "text/html": [
       "<div>\n",
       "<style scoped>\n",
       "    .dataframe tbody tr th:only-of-type {\n",
       "        vertical-align: middle;\n",
       "    }\n",
       "\n",
       "    .dataframe tbody tr th {\n",
       "        vertical-align: top;\n",
       "    }\n",
       "\n",
       "    .dataframe thead th {\n",
       "        text-align: right;\n",
       "    }\n",
       "</style>\n",
       "<table border=\"1\" class=\"dataframe\">\n",
       "  <thead>\n",
       "    <tr style=\"text-align: right;\">\n",
       "      <th></th>\n",
       "      <th>actual</th>\n",
       "      <th>baseline</th>\n",
       "      <th>simple_lm</th>\n",
       "      <th>lasso_lars_a_1</th>\n",
       "      <th>lasso_lars_a_05</th>\n",
       "      <th>lasso_lars_a_2</th>\n",
       "      <th>glm_p_0</th>\n",
       "      <th>glm_p_1</th>\n",
       "    </tr>\n",
       "  </thead>\n",
       "  <tbody>\n",
       "    <tr>\n",
       "      <th>1953946</th>\n",
       "      <td>380718</td>\n",
       "      <td>376327.765369</td>\n",
       "      <td>188223.804656</td>\n",
       "      <td>191665.053713</td>\n",
       "      <td>189944.429185</td>\n",
       "      <td>195106.302770</td>\n",
       "      <td>342678.338808</td>\n",
       "      <td>376327.765369</td>\n",
       "    </tr>\n",
       "    <tr>\n",
       "      <th>920890</th>\n",
       "      <td>211774</td>\n",
       "      <td>376327.765369</td>\n",
       "      <td>455180.726151</td>\n",
       "      <td>451742.155629</td>\n",
       "      <td>453461.440890</td>\n",
       "      <td>448303.585108</td>\n",
       "      <td>437497.416706</td>\n",
       "      <td>376327.765369</td>\n",
       "    </tr>\n",
       "    <tr>\n",
       "      <th>105171</th>\n",
       "      <td>293112</td>\n",
       "      <td>376327.765369</td>\n",
       "      <td>381808.695194</td>\n",
       "      <td>378505.204237</td>\n",
       "      <td>380156.949715</td>\n",
       "      <td>375201.713281</td>\n",
       "      <td>459320.369677</td>\n",
       "      <td>376327.765369</td>\n",
       "    </tr>\n",
       "    <tr>\n",
       "      <th>54562</th>\n",
       "      <td>23561</td>\n",
       "      <td>376327.765369</td>\n",
       "      <td>183800.344563</td>\n",
       "      <td>187286.362799</td>\n",
       "      <td>185543.353681</td>\n",
       "      <td>190772.381035</td>\n",
       "      <td>352512.833998</td>\n",
       "      <td>376327.765369</td>\n",
       "    </tr>\n",
       "    <tr>\n",
       "      <th>960127</th>\n",
       "      <td>383054</td>\n",
       "      <td>376327.765369</td>\n",
       "      <td>486463.948436</td>\n",
       "      <td>489977.327740</td>\n",
       "      <td>488220.638088</td>\n",
       "      <td>493490.707044</td>\n",
       "      <td>411212.322801</td>\n",
       "      <td>376327.765369</td>\n",
       "    </tr>\n",
       "  </tbody>\n",
       "</table>\n",
       "</div>"
      ],
      "text/plain": [
       "         actual       baseline      simple_lm  lasso_lars_a_1  \\\n",
       "1953946  380718  376327.765369  188223.804656   191665.053713   \n",
       "920890   211774  376327.765369  455180.726151   451742.155629   \n",
       "105171   293112  376327.765369  381808.695194   378505.204237   \n",
       "54562     23561  376327.765369  183800.344563   187286.362799   \n",
       "960127   383054  376327.765369  486463.948436   489977.327740   \n",
       "\n",
       "         lasso_lars_a_05  lasso_lars_a_2        glm_p_0        glm_p_1  \n",
       "1953946    189944.429185   195106.302770  342678.338808  376327.765369  \n",
       "920890     453461.440890   448303.585108  437497.416706  376327.765369  \n",
       "105171     380156.949715   375201.713281  459320.369677  376327.765369  \n",
       "54562      185543.353681   190772.381035  352512.833998  376327.765369  \n",
       "960127     488220.638088   493490.707044  411212.322801  376327.765369  "
      ]
     },
     "execution_count": 30,
     "metadata": {},
     "output_type": "execute_result"
    }
   ],
   "source": [
    "predictions.head()"
   ]
  },
  {
   "cell_type": "code",
   "execution_count": 31,
   "id": "321a63de",
   "metadata": {},
   "outputs": [
    {
     "name": "stdout",
     "output_type": "stream",
     "text": [
      "<class 'pandas.core.frame.DataFrame'>\n",
      "Int64Index: 491502 entries, 1953946 to 1865992\n",
      "Data columns (total 8 columns):\n",
      " #   Column           Non-Null Count   Dtype  \n",
      "---  ------           --------------   -----  \n",
      " 0   actual           491502 non-null  int64  \n",
      " 1   baseline         491502 non-null  float64\n",
      " 2   simple_lm        491502 non-null  float64\n",
      " 3   lasso_lars_a_1   491502 non-null  float64\n",
      " 4   lasso_lars_a_05  491502 non-null  float64\n",
      " 5   lasso_lars_a_2   491502 non-null  float64\n",
      " 6   glm_p_0          491502 non-null  float64\n",
      " 7   glm_p_1          491502 non-null  float64\n",
      "dtypes: float64(7), int64(1)\n",
      "memory usage: 33.7 MB\n"
     ]
    }
   ],
   "source": [
    "predictions.info()"
   ]
  },
  {
   "cell_type": "code",
   "execution_count": 32,
   "id": "6a9fcdcc",
   "metadata": {},
   "outputs": [
    {
     "data": {
      "image/png": "[encoded data removed]",
      "text/plain": [
       "<Figure size 1152x576 with 1 Axes>"
      ]
     },
     "metadata": {
      "needs_background": "light"
     },
     "output_type": "display_data"
    }
   ],
   "source": [
    "# Plot visualizing Actual Home Value vs Predicted Home Value on 3 Best Models \n",
    "plt.figure(figsize=(16,8))\n",
    "plt.hist(predictions.actual, color='blue', alpha=.4, label=\"Actual Final Grades\")\n",
    "plt.hist(predictions.lasso_lars_a_1, color='yellow', alpha=0.4, label=\"Model: Lasso-Lars\")\n",
    "plt.hist(predictions.glm_p_0, color='red', alpha=.3, label=\"Model: TweedieRegressor\")\n",
    "plt.hist(predictions.simple_lm, color='green', alpha=.4, label=\"Model: LinearRegression\")\n",
    "plt.xlabel(\"Home Value\")\n",
    "plt.ylabel(\"Number of Homes\")\n",
    "plt.title(\"Comparing the Distribution of Actual Home Value to Distributions of Predicted Home Value for the 3 Top Models\")\n",
    "plt.legend()\n",
    "plt.show()"
   ]
  },
  {
   "cell_type": "code",
   "execution_count": 33,
   "id": "87e13d02",
   "metadata": {},
   "outputs": [],
   "source": [
    "# Modeling Evaluation"
   ]
  },
  {
   "cell_type": "code",
   "execution_count": 34,
   "id": "bb300516",
   "metadata": {},
   "outputs": [
    {
     "name": "stdout",
     "output_type": "stream",
     "text": [
      "Train baseline MSE: 269907.8380289604.\n"
     ]
    },
    {
     "data": {
      "text/plain": [
       "actual             0.000000e+00\n",
       "simple_lm          5.512504e+10\n",
       "lasso_lars_a_05    5.512712e+10\n",
       "lasso_lars_a_1     5.513334e+10\n",
       "lasso_lars_a_2     5.515824e+10\n",
       "glm_p_0            6.727295e+10\n",
       "baseline           7.285024e+10\n",
       "glm_p_1            7.285024e+10\n",
       "dtype: float64"
      ]
     },
     "execution_count": 34,
     "metadata": {},
     "output_type": "execute_result"
    }
   ],
   "source": [
    "# Calculate mean squared error for every column in the train_predictions df\n",
    "def calculate_mse(y_predicted):\n",
    "    return mean_squared_error(train_predictions.actual, y_predicted)\n",
    "\n",
    "print('Train baseline MSE: {}.'.format(train_rmse))\n",
    "train_predictions.apply(calculate_mse).sort_values()"
   ]
  },
  {
   "cell_type": "code",
   "execution_count": 35,
   "id": "f4c45635",
   "metadata": {},
   "outputs": [
    {
     "name": "stdout",
     "output_type": "stream",
     "text": [
      "Validation baseline MSE: 271021.9790555932.\n"
     ]
    },
    {
     "data": {
      "text/plain": [
       "actual             0.000000e+00\n",
       "simple_lm          5.480599e+10\n",
       "lasso_lars_a_05    5.483080e+10\n",
       "lasso_lars_a_1     5.485948e+10\n",
       "lasso_lars_a_2     5.492850e+10\n",
       "glm_p_0            6.789212e+10\n",
       "baseline           7.345291e+10\n",
       "glm_p_1            7.345291e+10\n",
       "dtype: float64"
      ]
     },
     "execution_count": 35,
     "metadata": {},
     "output_type": "execute_result"
    }
   ],
   "source": [
    "# Calculate mean squared error for every column in the predictions df\n",
    "def calculate_mse(y_predicted):\n",
    "    return mean_squared_error(predictions.actual, y_predicted)\n",
    "\n",
    "print('Validation baseline MSE: {}.'.format(validate_rmse))\n",
    "predictions.apply(calculate_mse).sort_values()"
   ]
  },
  {
   "cell_type": "code",
   "execution_count": 36,
   "id": "d5903b66",
   "metadata": {},
   "outputs": [
    {
     "name": "stdout",
     "output_type": "stream",
     "text": [
      "Train baseline RMSE: 269907.8380289604.\n"
     ]
    },
    {
     "data": {
      "text/plain": [
       "actual                  0.000000\n",
       "simple_lm          234787.226784\n",
       "lasso_lars_a_05    234791.644945\n",
       "lasso_lars_a_1     234804.898927\n",
       "lasso_lars_a_2     234857.907378\n",
       "glm_p_0            259370.285719\n",
       "baseline           269907.838029\n",
       "glm_p_1            269907.838029\n",
       "dtype: float64"
      ]
     },
     "execution_count": 36,
     "metadata": {},
     "output_type": "execute_result"
    }
   ],
   "source": [
    "# Calculate root mean squared error (RMSE) for every column in the train_predictions df\n",
    "def calculate_rmse(y_predicted):\n",
    "    return sqrt(mean_squared_error(train_predictions.actual, y_predicted))\n",
    "\n",
    "print('Train baseline RMSE: {}.'.format(train_rmse))\n",
    "train_predictions.apply(calculate_rmse).sort_values()"
   ]
  },
  {
   "cell_type": "code",
   "execution_count": 37,
   "id": "6568483a",
   "metadata": {},
   "outputs": [
    {
     "name": "stdout",
     "output_type": "stream",
     "text": [
      "Validation baseline RMSE: 271021.9790555932.\n"
     ]
    },
    {
     "data": {
      "text/plain": [
       "actual                  0.000000\n",
       "simple_lm          234106.786195\n",
       "lasso_lars_a_05    234159.768127\n",
       "lasso_lars_a_1     234221.017186\n",
       "lasso_lars_a_2     234368.289887\n",
       "glm_p_0            260561.166078\n",
       "baseline           271021.979056\n",
       "glm_p_1            271021.979056\n",
       "dtype: float64"
      ]
     },
     "execution_count": 37,
     "metadata": {},
     "output_type": "execute_result"
    }
   ],
   "source": [
    "# Calculate root mean squared error (RMSE) for every column in the predictions df\n",
    "def calculate_rmse(y_predicted):\n",
    "    return sqrt(mean_squared_error(predictions.actual, y_predicted))\n",
    "\n",
    "print('Validation baseline RMSE: {}.'.format(validate_rmse))\n",
    "predictions.apply(calculate_rmse).sort_values()"
   ]
  },
  {
   "cell_type": "code",
   "execution_count": null,
   "id": "9cbd0552",
   "metadata": {},
   "outputs": [],
   "source": []
  },
  {
   "cell_type": "code",
   "execution_count": null,
   "id": "1343c9a3",
   "metadata": {},
   "outputs": [],
   "source": []
  },
  {
   "cell_type": "code",
   "execution_count": null,
   "id": "1514a562",
   "metadata": {},
   "outputs": [],
   "source": []
  },
  {
   "cell_type": "code",
   "execution_count": null,
   "id": "162553ea",
   "metadata": {},
   "outputs": [],
   "source": []
  },
  {
   "cell_type": "code",
   "execution_count": null,
   "id": "02ad80fd",
   "metadata": {},
   "outputs": [],
   "source": []
  },
  {
   "cell_type": "code",
   "execution_count": null,
   "id": "e207ea9f",
   "metadata": {},
   "outputs": [],
   "source": []
  },
  {
   "cell_type": "code",
   "execution_count": null,
   "id": "6a2427ce",
   "metadata": {},
   "outputs": [],
   "source": []
  },
  {
   "cell_type": "code",
   "execution_count": null,
   "id": "17238de1",
   "metadata": {},
   "outputs": [],
   "source": []
  }
 ],
 "metadata": {
  "kernelspec": {
   "display_name": "Python 3 (ipykernel)",
   "language": "python",
   "name": "python3"
  },
  "language_info": {
   "codemirror_mode": {
    "name": "ipython",
    "version": 3
   },
   "file_extension": ".py",
   "mimetype": "text/x-python",
   "name": "python",
   "nbconvert_exporter": "python",
   "pygments_lexer": "ipython3",
   "version": "3.9.12"
  }
 },
 "nbformat": 4,
 "nbformat_minor": 5
}
