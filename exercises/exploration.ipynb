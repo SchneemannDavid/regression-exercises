{
 "cells": [
  {
   "cell_type": "markdown",
   "id": "4bc4c126",
   "metadata": {},
   "source": [
    "# Exploration Exercises"
   ]
  },
  {
   "cell_type": "code",
   "execution_count": 1,
   "id": "be40ecb4",
   "metadata": {},
   "outputs": [],
   "source": [
    "import warnings\n",
    "warnings.filterwarnings(\"ignore\")\n",
    "\n",
    "import pandas as pd\n",
    "import numpy as np\n",
    "\n",
    "import matplotlib.pyplot as plt\n",
    "import seaborn as sns\n",
    "\n",
    "from sklearn.model_selection import train_test_split\n",
    "from scipy.stats import pearsonr, spearmanr\n",
    "\n",
    "import env\n",
    "import wrangle"
   ]
  },
  {
   "cell_type": "code",
   "execution_count": 2,
   "id": "078caf2d",
   "metadata": {
    "scrolled": true
   },
   "outputs": [
    {
     "ename": "AttributeError",
     "evalue": "'NoneType' object has no attribute 'replace'",
     "output_type": "error",
     "traceback": [
      "\u001b[0;31m---------------------------------------------------------------------------\u001b[0m",
      "\u001b[0;31mAttributeError\u001b[0m                            Traceback (most recent call last)",
      "Input \u001b[0;32mIn [2]\u001b[0m, in \u001b[0;36m<cell line: 1>\u001b[0;34m()\u001b[0m\n\u001b[0;32m----> 1\u001b[0m df \u001b[38;5;241m=\u001b[39m \u001b[43mwrangle\u001b[49m\u001b[38;5;241;43m.\u001b[39;49m\u001b[43mwrangle_zillow\u001b[49m\u001b[43m(\u001b[49m\u001b[43m)\u001b[49m\n",
      "File \u001b[0;32m~/codeup/regression-exercises/exercises/wrangle.py:90\u001b[0m, in \u001b[0;36mwrangle_zillow\u001b[0;34m()\u001b[0m\n\u001b[1;32m     86\u001b[0m df \u001b[38;5;241m=\u001b[39m optimize_types(df)\n\u001b[1;32m     88\u001b[0m df \u001b[38;5;241m=\u001b[39m handle_outliers(df)\n\u001b[0;32m---> 90\u001b[0m df \u001b[38;5;241m=\u001b[39m \u001b[43mclean_variables\u001b[49m\u001b[43m(\u001b[49m\u001b[43mdf\u001b[49m\u001b[43m)\u001b[49m\n\u001b[1;32m     92\u001b[0m \u001b[38;5;66;03m# df.to_csv(\"zillow.csv\", index=False)\u001b[39;00m\n\u001b[1;32m     94\u001b[0m \u001b[38;5;28;01mreturn\u001b[39;00m df\n",
      "File \u001b[0;32m~/codeup/regression-exercises/exercises/wrangle.py:68\u001b[0m, in \u001b[0;36mclean_variables\u001b[0;34m(df)\u001b[0m\n\u001b[1;32m     66\u001b[0m df \u001b[38;5;241m=\u001b[39m df\u001b[38;5;241m.\u001b[39mdrop(columns \u001b[38;5;241m=\u001b[39m \u001b[38;5;124m'\u001b[39m\u001b[38;5;124mtaxamount\u001b[39m\u001b[38;5;124m'\u001b[39m)\n\u001b[1;32m     67\u001b[0m df \u001b[38;5;241m=\u001b[39m df\u001b[38;5;241m.\u001b[39mrename(columns \u001b[38;5;241m=\u001b[39m {\u001b[38;5;124m'\u001b[39m\u001b[38;5;124mbedroomcnt\u001b[39m\u001b[38;5;124m'\u001b[39m:\u001b[38;5;124m'\u001b[39m\u001b[38;5;124mbedrooms\u001b[39m\u001b[38;5;124m'\u001b[39m, \u001b[38;5;124m'\u001b[39m\u001b[38;5;124mbathroomcnt\u001b[39m\u001b[38;5;124m'\u001b[39m:\u001b[38;5;124m'\u001b[39m\u001b[38;5;124mbathrooms\u001b[39m\u001b[38;5;124m'\u001b[39m, \u001b[38;5;124m'\u001b[39m\u001b[38;5;124mcalculatedfinishedsquarefeet\u001b[39m\u001b[38;5;124m'\u001b[39m:\u001b[38;5;124m'\u001b[39m\u001b[38;5;124msq_ft\u001b[39m\u001b[38;5;124m'\u001b[39m, \u001b[38;5;124m'\u001b[39m\u001b[38;5;124mtaxvaluedollarcnt\u001b[39m\u001b[38;5;124m'\u001b[39m:\u001b[38;5;124m'\u001b[39m\u001b[38;5;124mproperty_value\u001b[39m\u001b[38;5;124m'\u001b[39m, \u001b[38;5;124m'\u001b[39m\u001b[38;5;124myearbuilt\u001b[39m\u001b[38;5;124m'\u001b[39m:\u001b[38;5;124m'\u001b[39m\u001b[38;5;124myear_built\u001b[39m\u001b[38;5;124m'\u001b[39m, \u001b[38;5;124m'\u001b[39m\u001b[38;5;124mfips\u001b[39m\u001b[38;5;124m'\u001b[39m:\u001b[38;5;124m'\u001b[39m\u001b[38;5;124mlocation\u001b[39m\u001b[38;5;124m'\u001b[39m}, inplace \u001b[38;5;241m=\u001b[39m \u001b[38;5;28;01mTrue\u001b[39;00m)\n\u001b[0;32m---> 68\u001b[0m df \u001b[38;5;241m=\u001b[39m \u001b[43mdf\u001b[49m\u001b[38;5;241;43m.\u001b[39;49m\u001b[43mreplace\u001b[49m(\u001b[38;5;124m'\u001b[39m\u001b[38;5;124m6037\u001b[39m\u001b[38;5;124m'\u001b[39m, \u001b[38;5;124m'\u001b[39m\u001b[38;5;124mLA County\u001b[39m\u001b[38;5;124m'\u001b[39m)\n\u001b[1;32m     69\u001b[0m df \u001b[38;5;241m=\u001b[39m df\u001b[38;5;241m.\u001b[39mreplace(\u001b[38;5;124m'\u001b[39m\u001b[38;5;124m6059\u001b[39m\u001b[38;5;124m'\u001b[39m, \u001b[38;5;124m'\u001b[39m\u001b[38;5;124mOrange County\u001b[39m\u001b[38;5;124m'\u001b[39m)\n\u001b[1;32m     70\u001b[0m df \u001b[38;5;241m=\u001b[39m df\u001b[38;5;241m.\u001b[39mreplace(\u001b[38;5;124m'\u001b[39m\u001b[38;5;124m6111\u001b[39m\u001b[38;5;124m'\u001b[39m, \u001b[38;5;124m'\u001b[39m\u001b[38;5;124mVentura County\u001b[39m\u001b[38;5;124m'\u001b[39m)\n",
      "\u001b[0;31mAttributeError\u001b[0m: 'NoneType' object has no attribute 'replace'"
     ]
    }
   ],
   "source": [
    "df = wrangle.wrangle_zillow()"
   ]
  },
  {
   "cell_type": "code",
   "execution_count": null,
   "id": "73704524",
   "metadata": {},
   "outputs": [],
   "source": [
    "- Sum of Squared Errors\n",
    "    - (Residuals**2).sum()\n",
    "- Explained sum of squares\n",
    "    -  ((yhat-baseline)**2).sum()\n",
    "- Total sum of squares\n",
    "    - (Sum of Squared Errors) + (Explained Sum of Squares)\n",
    "- Mean Squared Error\n",
    "    - (Sum of Squared Errors)/(Count of Residuals)\n",
    "- Root Mean Squared Error\n",
    "    - $ \\sqrt(Mean Squared Error) $"
   ]
  },
  {
   "cell_type": "code",
   "execution_count": null,
   "id": "95c7946c",
   "metadata": {},
   "outputs": [],
   "source": []
  },
  {
   "cell_type": "code",
   "execution_count": null,
   "id": "b62a0aad",
   "metadata": {},
   "outputs": [],
   "source": [
    "df.shape"
   ]
  },
  {
   "cell_type": "markdown",
   "id": "033167f3",
   "metadata": {},
   "source": [
    "1. As with encoded vs. unencoded data, we recommend exploring un-scaled data in your EDA process\n",
    "\n",
    "2. Make sure to perform a train, validate, test split before and use only your train dataset to explore the relationships between independent variables with other independent variables or independent variables with your target variable."
   ]
  },
  {
   "cell_type": "code",
   "execution_count": null,
   "id": "ee61a2c5",
   "metadata": {},
   "outputs": [],
   "source": [
    "def split_zillow(df):\n",
    "    train_validate, test = train_test_split(df, test_size=.2,\n",
    "                                        random_state=123)\n",
    "    train, validate = train_test_split(train_validate, test_size=.3,\n",
    "                                   random_state=123)\n",
    "    return train, validate, test"
   ]
  },
  {
   "cell_type": "code",
   "execution_count": null,
   "id": "cd145bef",
   "metadata": {},
   "outputs": [],
   "source": [
    "train, validate, test = split_zillow(df)"
   ]
  },
  {
   "cell_type": "code",
   "execution_count": null,
   "id": "241fb2c0",
   "metadata": {},
   "outputs": [],
   "source": [
    "train.shape"
   ]
  },
  {
   "cell_type": "markdown",
   "id": "4b66d31a",
   "metadata": {},
   "source": [
    "3. Write a function named plot_variable_pairs that accepts a dataframe as input and plots all of the pairwise relationships along with the regression line for each pair."
   ]
  },
  {
   "cell_type": "code",
   "execution_count": null,
   "id": "7a4dc092",
   "metadata": {},
   "outputs": [],
   "source": [
    "train.sample(25)"
   ]
  },
  {
   "cell_type": "code",
   "execution_count": null,
   "id": "1185f4ee",
   "metadata": {},
   "outputs": [],
   "source": [
    "sns.pairplot(train.sample(50), kind='reg', corner=True, plot_kws={'line_kws':{'color':'red'}})"
   ]
  },
  {
   "cell_type": "code",
   "execution_count": null,
   "id": "eb7d6a71",
   "metadata": {},
   "outputs": [],
   "source": [
    "def plot_variable_pairs(df):\n",
    "    train.sample(50)\n",
    "    sns.pairplot(train.sample(50), kind='reg', corner=True, plot_kws={'line_kws':{'color':'red'}})"
   ]
  },
  {
   "cell_type": "code",
   "execution_count": null,
   "id": "21fe10f1",
   "metadata": {},
   "outputs": [],
   "source": [
    "plot_variable_pairs(train)"
   ]
  },
  {
   "cell_type": "markdown",
   "id": "ff4369a4",
   "metadata": {},
   "source": [
    "**Takeaways**\n"
   ]
  },
  {
   "cell_type": "code",
   "execution_count": null,
   "id": "40c7f442",
   "metadata": {},
   "outputs": [],
   "source": []
  },
  {
   "cell_type": "markdown",
   "id": "d4f00bfe",
   "metadata": {},
   "source": [
    "4. Write a function named plot_categorical_and_continuous_vars that accepts your dataframe and the name of the columns that hold the continuous and categorical features and outputs 3 different plots for visualizing a categorical variable and a continuous variable."
   ]
  },
  {
   "cell_type": "code",
   "execution_count": null,
   "id": "1134909d",
   "metadata": {
    "scrolled": true
   },
   "outputs": [],
   "source": [
    "train.info()"
   ]
  },
  {
   "cell_type": "code",
   "execution_count": null,
   "id": "9cca6c26",
   "metadata": {},
   "outputs": [],
   "source": [
    "train['fips'].nunique()"
   ]
  },
  {
   "cell_type": "code",
   "execution_count": null,
   "id": "5939e333",
   "metadata": {},
   "outputs": [],
   "source": [
    "train.fips.value_counts()"
   ]
  },
  {
   "cell_type": "markdown",
   "id": "8041ba64",
   "metadata": {},
   "source": [
    "fips is akin to county code:\n",
    "- 6037 = LA county\n",
    "- 6059 = Orange county\n",
    "- 6111 = Ventura county"
   ]
  },
  {
   "cell_type": "markdown",
   "id": "7ae68d50",
   "metadata": {},
   "source": [
    "Potential Categorical Variables (discrete) to investigate:\n",
    "- bedroomcnt\n",
    "- bathroomcnt\n",
    "- yearbuilt\n",
    "- fips"
   ]
  },
  {
   "cell_type": "code",
   "execution_count": null,
   "id": "372b265a",
   "metadata": {},
   "outputs": [],
   "source": [
    "cat_cols = ['bedroomcnt', 'bathroomcnt', 'yearbuilt', 'fips']\n",
    "cont_cols = ['calculatedfinishedsquarefeet', 'taxvaluedollarcnt']"
   ]
  },
  {
   "cell_type": "code",
   "execution_count": null,
   "id": "4ea08f88",
   "metadata": {},
   "outputs": [],
   "source": [
    "def plot_categorical_and_continuous_vars(df, cat_cols, cont_cols):\n",
    "    for cont in cont_cols:\n",
    "        for cat in cat_cols:\n",
    "            fig = plt.figure(figsize= (20, 10))\n",
    "            fig.suptitle(f'{cont} vs {cat}')\n",
    "            \n",
    "\n",
    "            plt.subplot(131)\n",
    "            sns.violinplot(data=df, x = cat, y = cont)\n",
    "           \n",
    "\n",
    "            plt.subplot(1, 3, 3)\n",
    "            sns.histplot(data = df, x = cont, bins = 50, hue = cat)\n",
    "            \n",
    "            \n",
    "            plt.subplot(1, 3, 2)\n",
    "            sns.barplot(data = df, x = cat, y = cont)"
   ]
  },
  {
   "cell_type": "code",
   "execution_count": null,
   "id": "3327b68a",
   "metadata": {},
   "outputs": [],
   "source": [
    "plot_categorical_and_continuous_vars(train, cat_cols, cont_cols)"
   ]
  },
  {
   "cell_type": "code",
   "execution_count": null,
   "id": "542d3a26",
   "metadata": {},
   "outputs": [],
   "source": [
    "def plot_categorical_and_continuous_vars(df):\n",
    "    "
   ]
  },
  {
   "cell_type": "code",
   "execution_count": null,
   "id": "27a33a3b",
   "metadata": {},
   "outputs": [],
   "source": []
  },
  {
   "cell_type": "markdown",
   "id": "c1231da5",
   "metadata": {},
   "source": [
    "5. Save the functions you have written to create visualizations in your explore.py file. Rewrite your notebook code so that you are using the functions imported from this file."
   ]
  },
  {
   "cell_type": "markdown",
   "id": "f4dd7dcc",
   "metadata": {},
   "source": [
    "6. Use the functions you created above to explore your Zillow train dataset in your explore.ipynb notebook."
   ]
  },
  {
   "cell_type": "code",
   "execution_count": null,
   "id": "7149eab2",
   "metadata": {},
   "outputs": [],
   "source": []
  },
  {
   "cell_type": "code",
   "execution_count": null,
   "id": "ba8a4145",
   "metadata": {},
   "outputs": [],
   "source": []
  },
  {
   "cell_type": "code",
   "execution_count": null,
   "id": "8d735ef5",
   "metadata": {},
   "outputs": [],
   "source": []
  },
  {
   "cell_type": "code",
   "execution_count": null,
   "id": "ba45e935",
   "metadata": {},
   "outputs": [],
   "source": []
  },
  {
   "cell_type": "code",
   "execution_count": null,
   "id": "8f21d7dc",
   "metadata": {},
   "outputs": [],
   "source": []
  },
  {
   "cell_type": "markdown",
   "id": "1bfdccee",
   "metadata": {},
   "source": [
    "7. Come up with some initial hypotheses based on your goal of predicting property value."
   ]
  },
  {
   "cell_type": "code",
   "execution_count": null,
   "id": "caedc81b",
   "metadata": {},
   "outputs": [],
   "source": []
  },
  {
   "cell_type": "code",
   "execution_count": null,
   "id": "28e66b19",
   "metadata": {},
   "outputs": [],
   "source": []
  },
  {
   "cell_type": "code",
   "execution_count": null,
   "id": "5e1c2921",
   "metadata": {},
   "outputs": [],
   "source": []
  },
  {
   "cell_type": "code",
   "execution_count": null,
   "id": "1b789928",
   "metadata": {},
   "outputs": [],
   "source": []
  }
 ],
 "metadata": {
  "kernelspec": {
   "display_name": "Python 3 (ipykernel)",
   "language": "python",
   "name": "python3"
  },
  "language_info": {
   "codemirror_mode": {
    "name": "ipython",
    "version": 3
   },
   "file_extension": ".py",
   "mimetype": "text/x-python",
   "name": "python",
   "nbconvert_exporter": "python",
   "pygments_lexer": "ipython3",
   "version": "3.9.12"
  }
 },
 "nbformat": 4,
 "nbformat_minor": 5
}
